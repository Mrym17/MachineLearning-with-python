{
  "nbformat": 4,
  "nbformat_minor": 0,
  "metadata": {
    "colab": {
      "provenance": [],
      "authorship_tag": "ABX9TyOlr8Iow+ScB9tLUtldLYtN",
      "include_colab_link": true
    },
    "kernelspec": {
      "name": "python3",
      "display_name": "Python 3"
    },
    "language_info": {
      "name": "python"
    }
  },
  "cells": [
    {
      "cell_type": "markdown",
      "metadata": {
        "id": "view-in-github",
        "colab_type": "text"
      },
      "source": [
        "<a href=\"https://colab.research.google.com/github/Mrym17/MachineLearning-with-python/blob/main/KNN.ipynb\" target=\"_parent\"><img src=\"https://colab.research.google.com/assets/colab-badge.svg\" alt=\"Open In Colab\"/></a>"
      ]
    },
    {
      "cell_type": "code",
      "execution_count": null,
      "metadata": {
        "id": "_Vius_QRqPfe"
      },
      "outputs": [],
      "source": [
        "import numpy as np\n",
        "import pandas as pd\n",
        "import matplotlib.pyplot as plt"
      ]
    },
    {
      "cell_type": "markdown",
      "source": [
        "# **Loading Dataset**"
      ],
      "metadata": {
        "id": "r_Ht0hwy5z15"
      }
    },
    {
      "cell_type": "code",
      "source": [
        "data=pd.read_csv('/content/Social Media Ads.csv')\n",
        "data.head()"
      ],
      "metadata": {
        "colab": {
          "base_uri": "https://localhost:8080/",
          "height": 206
        },
        "id": "64qc28gaqXjT",
        "outputId": "920998db-9b1d-46d2-d3c8-ed35086d025a"
      },
      "execution_count": null,
      "outputs": [
        {
          "output_type": "execute_result",
          "data": {
            "text/plain": [
              "    User ID  Gender  Age  EstimatedSalary  Purchased\n",
              "0  15624510    Male   19            19000          0\n",
              "1  15810944    Male   35            20000          0\n",
              "2  15668575  Female   26            43000          0\n",
              "3  15603246  Female   27            57000          0\n",
              "4  15804002    Male   19            76000          0"
            ],
            "text/html": [
              "\n",
              "  <div id=\"df-5f1fce1b-d89b-4ec1-ba93-5b3ec8b13133\">\n",
              "    <div class=\"colab-df-container\">\n",
              "      <div>\n",
              "<style scoped>\n",
              "    .dataframe tbody tr th:only-of-type {\n",
              "        vertical-align: middle;\n",
              "    }\n",
              "\n",
              "    .dataframe tbody tr th {\n",
              "        vertical-align: top;\n",
              "    }\n",
              "\n",
              "    .dataframe thead th {\n",
              "        text-align: right;\n",
              "    }\n",
              "</style>\n",
              "<table border=\"1\" class=\"dataframe\">\n",
              "  <thead>\n",
              "    <tr style=\"text-align: right;\">\n",
              "      <th></th>\n",
              "      <th>User ID</th>\n",
              "      <th>Gender</th>\n",
              "      <th>Age</th>\n",
              "      <th>EstimatedSalary</th>\n",
              "      <th>Purchased</th>\n",
              "    </tr>\n",
              "  </thead>\n",
              "  <tbody>\n",
              "    <tr>\n",
              "      <th>0</th>\n",
              "      <td>15624510</td>\n",
              "      <td>Male</td>\n",
              "      <td>19</td>\n",
              "      <td>19000</td>\n",
              "      <td>0</td>\n",
              "    </tr>\n",
              "    <tr>\n",
              "      <th>1</th>\n",
              "      <td>15810944</td>\n",
              "      <td>Male</td>\n",
              "      <td>35</td>\n",
              "      <td>20000</td>\n",
              "      <td>0</td>\n",
              "    </tr>\n",
              "    <tr>\n",
              "      <th>2</th>\n",
              "      <td>15668575</td>\n",
              "      <td>Female</td>\n",
              "      <td>26</td>\n",
              "      <td>43000</td>\n",
              "      <td>0</td>\n",
              "    </tr>\n",
              "    <tr>\n",
              "      <th>3</th>\n",
              "      <td>15603246</td>\n",
              "      <td>Female</td>\n",
              "      <td>27</td>\n",
              "      <td>57000</td>\n",
              "      <td>0</td>\n",
              "    </tr>\n",
              "    <tr>\n",
              "      <th>4</th>\n",
              "      <td>15804002</td>\n",
              "      <td>Male</td>\n",
              "      <td>19</td>\n",
              "      <td>76000</td>\n",
              "      <td>0</td>\n",
              "    </tr>\n",
              "  </tbody>\n",
              "</table>\n",
              "</div>\n",
              "      <button class=\"colab-df-convert\" onclick=\"convertToInteractive('df-5f1fce1b-d89b-4ec1-ba93-5b3ec8b13133')\"\n",
              "              title=\"Convert this dataframe to an interactive table.\"\n",
              "              style=\"display:none;\">\n",
              "        \n",
              "  <svg xmlns=\"http://www.w3.org/2000/svg\" height=\"24px\"viewBox=\"0 0 24 24\"\n",
              "       width=\"24px\">\n",
              "    <path d=\"M0 0h24v24H0V0z\" fill=\"none\"/>\n",
              "    <path d=\"M18.56 5.44l.94 2.06.94-2.06 2.06-.94-2.06-.94-.94-2.06-.94 2.06-2.06.94zm-11 1L8.5 8.5l.94-2.06 2.06-.94-2.06-.94L8.5 2.5l-.94 2.06-2.06.94zm10 10l.94 2.06.94-2.06 2.06-.94-2.06-.94-.94-2.06-.94 2.06-2.06.94z\"/><path d=\"M17.41 7.96l-1.37-1.37c-.4-.4-.92-.59-1.43-.59-.52 0-1.04.2-1.43.59L10.3 9.45l-7.72 7.72c-.78.78-.78 2.05 0 2.83L4 21.41c.39.39.9.59 1.41.59.51 0 1.02-.2 1.41-.59l7.78-7.78 2.81-2.81c.8-.78.8-2.07 0-2.86zM5.41 20L4 18.59l7.72-7.72 1.47 1.35L5.41 20z\"/>\n",
              "  </svg>\n",
              "      </button>\n",
              "      \n",
              "  <style>\n",
              "    .colab-df-container {\n",
              "      display:flex;\n",
              "      flex-wrap:wrap;\n",
              "      gap: 12px;\n",
              "    }\n",
              "\n",
              "    .colab-df-convert {\n",
              "      background-color: #E8F0FE;\n",
              "      border: none;\n",
              "      border-radius: 50%;\n",
              "      cursor: pointer;\n",
              "      display: none;\n",
              "      fill: #1967D2;\n",
              "      height: 32px;\n",
              "      padding: 0 0 0 0;\n",
              "      width: 32px;\n",
              "    }\n",
              "\n",
              "    .colab-df-convert:hover {\n",
              "      background-color: #E2EBFA;\n",
              "      box-shadow: 0px 1px 2px rgba(60, 64, 67, 0.3), 0px 1px 3px 1px rgba(60, 64, 67, 0.15);\n",
              "      fill: #174EA6;\n",
              "    }\n",
              "\n",
              "    [theme=dark] .colab-df-convert {\n",
              "      background-color: #3B4455;\n",
              "      fill: #D2E3FC;\n",
              "    }\n",
              "\n",
              "    [theme=dark] .colab-df-convert:hover {\n",
              "      background-color: #434B5C;\n",
              "      box-shadow: 0px 1px 3px 1px rgba(0, 0, 0, 0.15);\n",
              "      filter: drop-shadow(0px 1px 2px rgba(0, 0, 0, 0.3));\n",
              "      fill: #FFFFFF;\n",
              "    }\n",
              "  </style>\n",
              "\n",
              "      <script>\n",
              "        const buttonEl =\n",
              "          document.querySelector('#df-5f1fce1b-d89b-4ec1-ba93-5b3ec8b13133 button.colab-df-convert');\n",
              "        buttonEl.style.display =\n",
              "          google.colab.kernel.accessAllowed ? 'block' : 'none';\n",
              "\n",
              "        async function convertToInteractive(key) {\n",
              "          const element = document.querySelector('#df-5f1fce1b-d89b-4ec1-ba93-5b3ec8b13133');\n",
              "          const dataTable =\n",
              "            await google.colab.kernel.invokeFunction('convertToInteractive',\n",
              "                                                     [key], {});\n",
              "          if (!dataTable) return;\n",
              "\n",
              "          const docLinkHtml = 'Like what you see? Visit the ' +\n",
              "            '<a target=\"_blank\" href=https://colab.research.google.com/notebooks/data_table.ipynb>data table notebook</a>'\n",
              "            + ' to learn more about interactive tables.';\n",
              "          element.innerHTML = '';\n",
              "          dataTable['output_type'] = 'display_data';\n",
              "          await google.colab.output.renderOutput(dataTable, element);\n",
              "          const docLink = document.createElement('div');\n",
              "          docLink.innerHTML = docLinkHtml;\n",
              "          element.appendChild(docLink);\n",
              "        }\n",
              "      </script>\n",
              "    </div>\n",
              "  </div>\n",
              "  "
            ]
          },
          "metadata": {},
          "execution_count": 2
        }
      ]
    },
    {
      "cell_type": "markdown",
      "source": [
        "# **Data Visualization**"
      ],
      "metadata": {
        "id": "cGQKrb1Z8vS4"
      }
    },
    {
      "cell_type": "code",
      "source": [
        "# Pair-wise Scatter Plots\n",
        "\n",
        "fig, ax = plt.subplots(3, figsize=(4, 10))\n",
        "ax[0].scatter(x = data['Age'], y = data['Purchased'])\n",
        "ax[0].set_xlabel(\"Purchased\")\n",
        "ax[0].set_ylabel(\"Age\")\n",
        "\n",
        "ax[1].scatter(x = data['EstimatedSalary'], y = data['Purchased'])\n",
        "ax[1].set_xlabel(\"Purchased\")\n",
        "ax[1].set_ylabel(\"EstimatedSalary\")\n",
        "ax[2].scatter(x = data['Gender'], y = data['Purchased'])\n",
        "ax[2].set_xlabel(\"Purchased\")\n",
        "ax[2].set_ylabel(\"Gender\")\n",
        "\n",
        "\n",
        "\n",
        "plt.show()"
      ],
      "metadata": {
        "colab": {
          "base_uri": "https://localhost:8080/",
          "height": 850
        },
        "id": "VE3IYSUE73F2",
        "outputId": "c5496c3f-a79e-47ec-9363-74148e8495e6"
      },
      "execution_count": null,
      "outputs": [
        {
          "output_type": "display_data",
          "data": {
            "text/plain": [
              "<Figure size 400x1000 with 3 Axes>"
            ],
            "image/png": "[encoded data removed]"
          },
          "metadata": {}
        }
      ]
    },
    {
      "cell_type": "markdown",
      "source": [
        "## **Date Preprocessing**"
      ],
      "metadata": {
        "id": "CiLFfG_Wk5u5"
      }
    },
    {
      "cell_type": "code",
      "source": [
        "data.duplicated().sum()"
      ],
      "metadata": {
        "colab": {
          "base_uri": "https://localhost:8080/"
        },
        "id": "InmNbf0Q7dJ1",
        "outputId": "f3cbfe3c-f0f2-4fcb-e466-66b4d4581bba"
      },
      "execution_count": null,
      "outputs": [
        {
          "output_type": "execute_result",
          "data": {
            "text/plain": [
              "0"
            ]
          },
          "metadata": {},
          "execution_count": 47
        }
      ]
    },
    {
      "cell_type": "code",
      "source": [
        "data.isnull().sum()"
      ],
      "metadata": {
        "colab": {
          "base_uri": "https://localhost:8080/"
        },
        "id": "PSy15SYG7dLx",
        "outputId": "eeeae01e-5f0e-4480-9f49-379efbe9e8af"
      },
      "execution_count": null,
      "outputs": [
        {
          "output_type": "execute_result",
          "data": {
            "text/plain": [
              "User ID            0\n",
              "Gender             0\n",
              "Age                0\n",
              "EstimatedSalary    0\n",
              "Purchased          0\n",
              "dtype: int64"
            ]
          },
          "metadata": {},
          "execution_count": 48
        }
      ]
    },
    {
      "cell_type": "markdown",
      "source": [
        "# **Data Split**"
      ],
      "metadata": {
        "id": "YJ3Y1hZ_53qW"
      }
    },
    {
      "cell_type": "code",
      "source": [
        "X=data.iloc[:,2:4].values"
      ],
      "metadata": {
        "id": "XQ_uOEQ-qXkz"
      },
      "execution_count": null,
      "outputs": []
    },
    {
      "cell_type": "code",
      "source": [
        "X.shape"
      ],
      "metadata": {
        "colab": {
          "base_uri": "https://localhost:8080/"
        },
        "id": "u0zDlbo8qXnt",
        "outputId": "67d39002-5295-4b36-a870-4e2a31d9a900"
      },
      "execution_count": null,
      "outputs": [
        {
          "output_type": "execute_result",
          "data": {
            "text/plain": [
              "(400, 2)"
            ]
          },
          "metadata": {},
          "execution_count": 4
        }
      ]
    },
    {
      "cell_type": "code",
      "source": [
        "y=data.iloc[:,-1].values"
      ],
      "metadata": {
        "id": "jFp7ipk1qXpN"
      },
      "execution_count": null,
      "outputs": []
    },
    {
      "cell_type": "code",
      "source": [
        "y.shape"
      ],
      "metadata": {
        "colab": {
          "base_uri": "https://localhost:8080/"
        },
        "id": "aEAH_9cmqXsI",
        "outputId": "02fa9d9c-1b18-4dc0-ede9-ac3ee2506215"
      },
      "execution_count": null,
      "outputs": [
        {
          "output_type": "execute_result",
          "data": {
            "text/plain": [
              "(400,)"
            ]
          },
          "metadata": {},
          "execution_count": 6
        }
      ]
    },
    {
      "cell_type": "code",
      "source": [
        "from sklearn.model_selection import train_test_split\n",
        "X_train,X_test,y_train,y_test=train_test_split(X,y,test_size=0.20)"
      ],
      "metadata": {
        "id": "l5VX-ftNqXts"
      },
      "execution_count": null,
      "outputs": []
    },
    {
      "cell_type": "code",
      "source": [
        "X_train.shape"
      ],
      "metadata": {
        "colab": {
          "base_uri": "https://localhost:8080/"
        },
        "id": "sXFdmjrIqXw-",
        "outputId": "c021b656-2070-4d6a-b12d-bfdc94af10b0"
      },
      "execution_count": null,
      "outputs": [
        {
          "output_type": "execute_result",
          "data": {
            "text/plain": [
              "(320, 2)"
            ]
          },
          "metadata": {},
          "execution_count": 9
        }
      ]
    },
    {
      "cell_type": "code",
      "source": [
        "\n",
        "X_test.shape"
      ],
      "metadata": {
        "colab": {
          "base_uri": "https://localhost:8080/"
        },
        "id": "56ggBRm3qXyY",
        "outputId": "c1b2a2e3-3e65-4d87-c163-8170706544db"
      },
      "execution_count": null,
      "outputs": [
        {
          "output_type": "execute_result",
          "data": {
            "text/plain": [
              "(80, 2)"
            ]
          },
          "metadata": {},
          "execution_count": 10
        }
      ]
    },
    {
      "cell_type": "markdown",
      "source": [
        "# **Scaling/Normalizing**"
      ],
      "metadata": {
        "id": "-aYGCNZl59R2"
      }
    },
    {
      "cell_type": "code",
      "source": [
        "from sklearn.preprocessing import StandardScaler\n",
        "scaler=StandardScaler()"
      ],
      "metadata": {
        "id": "Ev_0wQc-qX1K"
      },
      "execution_count": null,
      "outputs": []
    },
    {
      "cell_type": "code",
      "source": [
        "X_train=scaler.fit_transform(X_train)\n",
        "X_train"
      ],
      "metadata": {
        "colab": {
          "base_uri": "https://localhost:8080/"
        },
        "id": "jZf3O_2UqX2b",
        "outputId": "4594ad8e-06c8-4a5e-8b7e-f5242773d14c"
      },
      "execution_count": null,
      "outputs": [
        {
          "output_type": "execute_result",
          "data": {
            "text/plain": [
              "array([[ 2.01733374e+00,  1.46119561e-01],\n",
              "       [ 1.06491887e+00,  8.81427977e-02],\n",
              "       [-1.03039383e+00, -1.56419495e+00],\n",
              "       [-1.73220454e-01,  1.36363159e+00],\n",
              "       [ 1.12504006e-01,  1.82744569e+00],\n",
              "       [ 2.07745493e-01, -4.04659689e-01],\n",
              "       [-2.68461941e-01,  1.17765300e-03],\n",
              "       [ 1.12504006e-01,  7.25887192e-01],\n",
              "       [ 1.92209225e+00, -9.55438939e-01],\n",
              "       [ 7.79194413e-01, -8.68473794e-01],\n",
              "       [-1.12563532e+00, -1.04240408e+00],\n",
              "       [ 3.02986979e-01,  2.33084706e-01],\n",
              "       [ 1.82685077e+00,  1.47958511e+00],\n",
              "       [-2.68461941e-01, -9.26450557e-01],\n",
              "       [-2.68461941e-01,  5.91544161e-02],\n",
              "       [ 1.12504006e-01,  1.17765300e-03],\n",
              "       [ 1.92209225e+00, -6.94543505e-01],\n",
              "       [ 2.11257523e+00, -8.39485413e-01],\n",
              "       [ 1.06491887e+00, -1.72752636e-01],\n",
              "       [-1.12563532e+00, -1.62217172e+00],\n",
              "       [-1.12563532e+00, -1.18734599e+00],\n",
              "       [ 7.79194413e-01, -1.12936923e+00],\n",
              "       [-1.79232573e+00, -1.30329952e+00],\n",
              "       [-1.31611829e+00, -1.39026466e+00],\n",
              "       [ 3.98228466e-01,  9.57794245e-01],\n",
              "       [-1.73220454e-01, -5.49601597e-01],\n",
              "       [ 1.12504006e-01,  5.91544161e-02],\n",
              "       [-2.68461941e-01,  3.01660346e-02],\n",
              "       [-1.03039383e+00,  5.22968521e-01],\n",
              "       [ 6.83952926e-01, -1.30329952e+00],\n",
              "       [-1.12563532e+00, -5.49601597e-01],\n",
              "       [ 8.74435899e-01,  2.11732951e+00],\n",
              "       [-1.60184275e+00, -8.57874917e-02],\n",
              "       [ 1.72625195e-02, -3.46682926e-01],\n",
              "       [-1.03039383e+00,  3.78026613e-01],\n",
              "       [ 1.92209225e+00, -1.39026466e+00],\n",
              "       [-7.79789672e-02,  1.17765300e-03],\n",
              "       [ 1.44588482e+00, -1.07139247e+00],\n",
              "       [ 1.63636779e+00,  1.56655026e+00],\n",
              "       [-7.79789672e-02,  1.75107942e-01],\n",
              "       [ 3.98228466e-01,  2.62073087e-01],\n",
              "       [-7.79789672e-02,  1.17131179e-01],\n",
              "       [ 9.69677386e-01, -1.18734599e+00],\n",
              "       [-6.49427887e-01,  1.36363159e+00],\n",
              "       [-2.68461941e-01,  4.93980140e-01],\n",
              "       [-1.79232573e+00, -1.50621819e+00],\n",
              "       [ 2.07745493e-01,  1.17131179e-01],\n",
              "       [-1.22087681e+00,  5.51956903e-01],\n",
              "       [ 9.69677386e-01, -1.10038085e+00],\n",
              "       [ 2.07745493e-01,  1.17131179e-01],\n",
              "       [ 2.07745493e-01, -1.72752636e-01],\n",
              "       [-2.68461941e-01,  1.07374777e+00],\n",
              "       [ 2.07745493e-01,  2.04096324e-01],\n",
              "       [ 2.07745493e-01, -4.04659689e-01],\n",
              "       [-1.03039383e+00,  4.93980140e-01],\n",
              "       [-1.73220454e-01, -6.07578360e-01],\n",
              "       [ 3.98228466e-01,  1.17131179e-01],\n",
              "       [-9.35152347e-01, -9.84427320e-01],\n",
              "       [ 2.01733374e+00,  4.93980140e-01],\n",
              "       [-6.49427887e-01,  1.46119561e-01],\n",
              "       [-1.73220454e-01, -4.91624834e-01],\n",
              "       [-2.68461941e-01,  1.75107942e-01],\n",
              "       [ 5.88711439e-01, -9.26450557e-01],\n",
              "       [ 1.72625195e-02, -6.07578360e-01],\n",
              "       [-1.41135978e+00, -6.65555123e-01],\n",
              "       [-1.50660127e+00, -1.53520657e+00],\n",
              "       [ 1.16016036e+00, -1.47722981e+00],\n",
              "       [ 1.63636779e+00,  1.71149217e+00],\n",
              "       [ 3.98228466e-01,  1.07374777e+00],\n",
              "       [ 3.98228466e-01,  2.33084706e-01],\n",
              "       [ 1.25540185e+00,  2.17530627e+00],\n",
              "       [ 1.73160928e+00,  1.79845731e+00],\n",
              "       [ 7.79194413e-01, -1.39026466e+00],\n",
              "       [-5.54186400e-01,  4.36003377e-01],\n",
              "       [-2.68461941e-01, -5.20613215e-01],\n",
              "       [-1.60184275e+00,  3.01660346e-02],\n",
              "       [-8.39910860e-01,  2.23328303e+00],\n",
              "       [ 2.01733374e+00,  2.08834113e+00],\n",
              "       [ 8.74435899e-01, -1.39026466e+00],\n",
              "       [-1.03039383e+00, -4.04659689e-01],\n",
              "       [-2.68461941e-01, -6.94543505e-01],\n",
              "       [-4.58944914e-01, -5.78589978e-01],\n",
              "       [ 6.83952926e-01, -1.12936923e+00],\n",
              "       [ 3.02986979e-01,  1.17765300e-03],\n",
              "       [-3.63703427e-01, -1.33228790e+00],\n",
              "       [-7.44669374e-01, -2.59717781e-01],\n",
              "       [-3.63703427e-01,  1.18970130e+00],\n",
              "       [-1.73220454e-01,  1.59553864e+00],\n",
              "       [-1.22087681e+00,  2.33084706e-01],\n",
              "       [-2.68461941e-01, -1.33228790e+00],\n",
              "       [-7.79789672e-02,  8.81427977e-02],\n",
              "       [ 9.69677386e-01,  1.94339922e+00],\n",
              "       [ 1.06491887e+00, -9.26450557e-01],\n",
              "       [-1.60184275e+00, -1.59318333e+00],\n",
              "       [ 2.07745493e-01, -6.94543505e-01],\n",
              "       [-5.54186400e-01,  1.33464321e+00],\n",
              "       [-8.39910860e-01,  1.17131179e-01],\n",
              "       [ 9.69677386e-01,  5.51956903e-01],\n",
              "       [-1.03039383e+00, -3.75671307e-01],\n",
              "       [-1.50660127e+00, -4.62636452e-01],\n",
              "       [-7.44669374e-01, -1.62217172e+00],\n",
              "       [-1.31611829e+00, -1.50621819e+00],\n",
              "       [ 9.69677386e-01,  1.39261997e+00],\n",
              "       [-3.63703427e-01,  3.01660346e-02],\n",
              "       [-9.35152347e-01, -7.81508649e-01],\n",
              "       [-1.03039383e+00,  5.51956903e-01],\n",
              "       [ 3.02986979e-01, -3.46682926e-01],\n",
              "       [ 8.74435899e-01, -6.07578360e-01],\n",
              "       [-1.73220454e-01, -1.10038085e+00],\n",
              "       [ 3.98228466e-01, -1.72752636e-01],\n",
              "       [-1.03039383e+00, -1.15835761e+00],\n",
              "       [ 2.01733374e+00,  1.71149217e+00],\n",
              "       [ 1.54112631e+00,  1.07374777e+00],\n",
              "       [-1.12563532e+00, -1.12936923e+00],\n",
              "       [-1.50660127e+00,  2.91061469e-01],\n",
              "       [-7.44669374e-01,  4.64991758e-01],\n",
              "       [ 4.93469953e-01,  1.79845731e+00],\n",
              "       [ 1.72625195e-02, -1.72752636e-01],\n",
              "       [-1.69708424e+00,  4.36003377e-01],\n",
              "       [-1.12563532e+00,  1.36363159e+00],\n",
              "       [ 2.11257523e+00,  8.99817482e-01],\n",
              "       [ 2.07745493e-01,  1.04475939e+00],\n",
              "       [-2.68461941e-01, -9.55438939e-01],\n",
              "       [-2.68461941e-01, -1.27431114e+00],\n",
              "       [ 1.06491887e+00, -1.24532275e+00],\n",
              "       [ 8.74435899e-01, -6.36566742e-01],\n",
              "       [-7.44669374e-01,  5.22968521e-01],\n",
              "       [ 9.69677386e-01, -8.68473794e-01],\n",
              "       [ 8.74435899e-01, -8.10497031e-01],\n",
              "       [ 1.06491887e+00,  2.03036436e+00],\n",
              "       [ 8.74435899e-01, -1.07139247e+00],\n",
              "       [ 1.12504006e-01,  1.01577101e+00],\n",
              "       [-7.44669374e-01,  2.62073087e-01],\n",
              "       [-7.79789672e-02, -1.10038085e+00],\n",
              "       [-1.73220454e-01,  1.56655026e+00],\n",
              "       [ 2.11257523e+00,  1.07374777e+00],\n",
              "       [ 1.06491887e+00,  4.36003377e-01],\n",
              "       [-9.35152347e-01, -4.62636452e-01],\n",
              "       [-7.79789672e-02,  2.11732951e+00],\n",
              "       [-6.49427887e-01, -8.57874917e-02],\n",
              "       [-2.68461941e-01,  7.54875574e-01],\n",
              "       [ 3.98228466e-01, -1.72752636e-01],\n",
              "       [ 3.02986979e-01,  3.01660346e-02],\n",
              "       [ 2.07745493e-01, -3.46682926e-01],\n",
              "       [-7.44669374e-01,  1.85643407e+00],\n",
              "       [ 1.12504006e-01, -2.88706163e-01],\n",
              "       [-7.44669374e-01,  1.30565482e+00],\n",
              "       [-1.79232573e+00,  4.07014995e-01],\n",
              "       [ 1.35064333e+00, -9.55438939e-01],\n",
              "       [-4.58944914e-01, -3.17694544e-01],\n",
              "       [ 3.02986979e-01, -5.49601597e-01],\n",
              "       [ 1.12504006e-01,  1.47958511e+00],\n",
              "       [ 1.12504006e-01, -3.46682926e-01],\n",
              "       [ 2.01733374e+00,  3.49038232e-01],\n",
              "       [-7.44669374e-01,  2.33084706e-01],\n",
              "       [ 2.11257523e+00, -7.23531886e-01],\n",
              "       [ 9.69677386e-01, -1.10038085e+00],\n",
              "       [ 2.01733374e+00, -1.21633437e+00],\n",
              "       [-7.79789672e-02, -4.62636452e-01],\n",
              "       [ 3.02986979e-01,  3.01660346e-02],\n",
              "       [-1.31611829e+00, -4.62636452e-01],\n",
              "       [ 6.83952926e-01, -7.52520268e-01],\n",
              "       [ 1.25540185e+00, -1.39026466e+00],\n",
              "       [-3.63703427e-01,  1.27666644e+00],\n",
              "       [ 7.79194413e-01,  8.81427977e-02],\n",
              "       [ 3.02986979e-01, -5.78589978e-01],\n",
              "       [ 6.83952926e-01,  2.33084706e-01],\n",
              "       [-9.35152347e-01,  3.78026613e-01],\n",
              "       [ 1.16016036e+00,  4.93980140e-01],\n",
              "       [ 1.25540185e+00,  1.82744569e+00],\n",
              "       [ 3.98228466e-01, -4.91624834e-01],\n",
              "       [ 2.07745493e-01, -3.17694544e-01],\n",
              "       [-2.68461941e-01,  3.01660346e-02],\n",
              "       [-1.12563532e+00,  4.36003377e-01],\n",
              "       [ 9.69677386e-01,  1.82744569e+00],\n",
              "       [ 1.72625195e-02,  1.18970130e+00],\n",
              "       [ 4.93469953e-01,  1.68250378e+00],\n",
              "       [-1.03039383e+00, -4.91624834e-01],\n",
              "       [-2.68461941e-01, -1.41925304e+00],\n",
              "       [-9.35152347e-01,  4.07014995e-01],\n",
              "       [ 2.07745493e-01,  3.01660346e-02],\n",
              "       [ 3.98228466e-01,  5.51956903e-01],\n",
              "       [ 7.79194413e-01,  7.25887192e-01],\n",
              "       [-4.58944914e-01,  2.26227142e+00],\n",
              "       [-5.54186400e-01,  1.42160835e+00],\n",
              "       [ 6.83952926e-01,  1.74048055e+00],\n",
              "       [ 4.93469953e-01,  1.18970130e+00],\n",
              "       [ 2.07745493e-01,  2.05935274e+00],\n",
              "       [-5.54186400e-01,  2.29125980e+00],\n",
              "       [ 8.74435899e-01, -6.94543505e-01],\n",
              "       [ 7.79194413e-01, -1.41925304e+00],\n",
              "       [ 8.74435899e-01,  9.86782626e-01],\n",
              "       [-1.22087681e+00, -1.41925304e+00],\n",
              "       [ 3.98228466e-01,  2.62073087e-01],\n",
              "       [ 3.02986979e-01,  4.64991758e-01],\n",
              "       [-1.69708424e+00,  3.20049850e-01],\n",
              "       [ 1.06491887e+00, -1.24532275e+00],\n",
              "       [-1.79232573e+00,  1.46119561e-01],\n",
              "       [-7.79789672e-02, -2.59717781e-01],\n",
              "       [-1.73220454e-01, -3.17694544e-01],\n",
              "       [-8.39910860e-01,  3.49038232e-01],\n",
              "       [ 1.35064333e+00, -1.44824143e+00],\n",
              "       [-1.73220454e-01, -2.30729400e-01],\n",
              "       [-9.35152347e-01,  5.22968521e-01],\n",
              "       [-9.35152347e-01, -3.46682926e-01],\n",
              "       [ 1.06491887e+00, -1.01341570e+00],\n",
              "       [ 1.12504006e-01,  1.17765300e-03],\n",
              "       [-9.35152347e-01, -1.12936923e+00],\n",
              "       [ 1.73160928e+00,  9.57794245e-01],\n",
              "       [-1.69708424e+00, -6.36566742e-01],\n",
              "       [ 1.63636779e+00, -9.26450557e-01],\n",
              "       [ 3.02986979e-01, -1.18734599e+00],\n",
              "       [-1.03039383e+00, -3.75671307e-01],\n",
              "       [-1.79232573e+00, -1.33228790e+00],\n",
              "       [ 1.92209225e+00,  2.11732951e+00],\n",
              "       [-1.41135978e+00, -2.30729400e-01],\n",
              "       [-1.31611829e+00, -4.62636452e-01],\n",
              "       [ 7.79194413e-01, -3.46682926e-01],\n",
              "       [-2.68461941e-01, -1.72752636e-01],\n",
              "       [-7.79789672e-02,  2.62073087e-01],\n",
              "       [ 1.72625195e-02, -5.78589978e-01],\n",
              "       [-6.49427887e-01,  5.22968521e-01],\n",
              "       [ 7.79194413e-01,  2.33084706e-01],\n",
              "       [ 2.07745493e-01, -4.04659689e-01],\n",
              "       [-1.50660127e+00, -1.27431114e+00],\n",
              "       [ 3.98228466e-01, -4.91624834e-01],\n",
              "       [-1.60184275e+00,  4.93980140e-01],\n",
              "       [-1.31611829e+00,  5.22968521e-01],\n",
              "       [ 1.35064333e+00,  5.51956903e-01],\n",
              "       [-2.68461941e-01, -3.75671307e-01],\n",
              "       [-4.58944914e-01, -1.15835761e+00],\n",
              "       [-7.44669374e-01,  1.04475939e+00],\n",
              "       [-7.44669374e-01, -6.36566742e-01],\n",
              "       [ 1.72625195e-02,  1.17765300e-03],\n",
              "       [ 1.12504006e-01,  1.17131179e-01],\n",
              "       [-1.31611829e+00, -3.75671307e-01],\n",
              "       [-2.68461941e-01, -6.07578360e-01],\n",
              "       [ 1.35064333e+00,  2.29125980e+00],\n",
              "       [-2.68461941e-01, -4.04659689e-01],\n",
              "       [-2.68461941e-01,  1.17131179e-01],\n",
              "       [ 2.11257523e+00, -8.39485413e-01],\n",
              "       [-1.69708424e+00,  3.20049850e-01],\n",
              "       [ 1.82685077e+00,  8.81427977e-02],\n",
              "       [ 9.69677386e-01,  1.74048055e+00],\n",
              "       [-9.35152347e-01,  1.50857349e+00],\n",
              "       [ 3.02986979e-01, -5.49601597e-01],\n",
              "       [-1.12563532e+00, -1.59318333e+00],\n",
              "       [ 3.02986979e-01,  2.62073087e-01],\n",
              "       [-5.54186400e-01,  1.33464321e+00],\n",
              "       [-1.22087681e+00, -1.10038085e+00],\n",
              "       [ 1.35064333e+00,  1.94339922e+00],\n",
              "       [ 8.74435899e-01, -1.33228790e+00],\n",
              "       [-1.12563532e+00, -8.10497031e-01],\n",
              "       [-5.54186400e-01, -1.53520657e+00],\n",
              "       [-4.58944914e-01, -5.67991101e-02],\n",
              "       [-1.22087681e+00,  2.62073087e-01],\n",
              "       [ 3.98228466e-01,  2.26227142e+00],\n",
              "       [ 3.02986979e-01, -3.17694544e-01],\n",
              "       [-6.49427887e-01, -1.07139247e+00],\n",
              "       [ 2.07745493e-01, -2.88706163e-01],\n",
              "       [ 5.88711439e-01,  1.97238760e+00],\n",
              "       [-2.68461941e-01,  1.17131179e-01],\n",
              "       [ 1.12504006e-01,  1.82744569e+00],\n",
              "       [-1.31611829e+00,  3.78026613e-01],\n",
              "       [-1.12563532e+00,  2.91061469e-01],\n",
              "       [ 1.92209225e+00,  6.96898811e-01],\n",
              "       [-2.68461941e-01, -7.81508649e-01],\n",
              "       [ 1.06491887e+00,  5.22968521e-01],\n",
              "       [ 1.72625195e-02, -2.88706163e-01],\n",
              "       [ 3.98228466e-01, -2.78107286e-02],\n",
              "       [ 1.82685077e+00, -1.30329952e+00],\n",
              "       [-4.58944914e-01, -8.68473794e-01],\n",
              "       [-1.03039383e+00,  1.91441084e+00],\n",
              "       [-8.39910860e-01, -2.88706163e-01],\n",
              "       [-2.68461941e-01,  2.33084706e-01],\n",
              "       [-1.69708424e+00, -1.39026466e+00],\n",
              "       [-7.79789672e-02,  6.38922048e-01],\n",
              "       [-7.79789672e-02, -5.20613215e-01],\n",
              "       [-1.69708424e+00,  8.81427977e-02],\n",
              "       [ 7.79194413e-01,  1.33464321e+00],\n",
              "       [ 1.12504006e-01, -8.39485413e-01],\n",
              "       [-1.12563532e+00,  2.62073087e-01],\n",
              "       [-1.12563532e+00, -1.56419495e+00],\n",
              "       [ 6.83952926e-01, -1.41925304e+00],\n",
              "       [ 7.79194413e-01, -1.24532275e+00],\n",
              "       [ 1.12504006e-01,  1.75107942e-01],\n",
              "       [-2.68461941e-01, -6.07578360e-01],\n",
              "       [-7.79789672e-02, -5.49601597e-01],\n",
              "       [-6.49427887e-01,  8.81427977e-02],\n",
              "       [ 1.72625195e-02, -6.07578360e-01],\n",
              "       [ 1.35064333e+00,  1.24767806e+00],\n",
              "       [ 1.72625195e-02,  1.17765300e-03],\n",
              "       [-1.79232573e+00, -1.44824143e+00],\n",
              "       [-2.68461941e-01,  2.20429465e+00],\n",
              "       [-1.12563532e+00,  2.62073087e-01],\n",
              "       [ 1.72625195e-02, -4.62636452e-01],\n",
              "       [-1.88756721e+00, -8.57874917e-02],\n",
              "       [ 9.69677386e-01,  8.81427977e-02],\n",
              "       [-1.41135978e+00,  3.20049850e-01],\n",
              "       [ 1.44588482e+00,  9.57794245e-01],\n",
              "       [-1.03039383e+00,  7.25887192e-01],\n",
              "       [ 8.74435899e-01, -1.18734599e+00],\n",
              "       [ 1.06491887e+00,  4.93980140e-01],\n",
              "       [ 3.98228466e-01,  5.91544161e-02],\n",
              "       [ 7.79194413e-01,  4.93980140e-01],\n",
              "       [ 8.74435899e-01, -1.47722981e+00],\n",
              "       [-1.88756721e+00, -7.81508649e-01],\n",
              "       [-8.39910860e-01, -8.10497031e-01],\n",
              "       [-1.88756721e+00,  3.20049850e-01],\n",
              "       [ 2.11257523e+00, -1.07139247e+00],\n",
              "       [-4.58944914e-01, -8.10497031e-01],\n",
              "       [-9.35152347e-01,  2.33084706e-01],\n",
              "       [-1.03039383e+00, -1.47722981e+00],\n",
              "       [-6.49427887e-01, -1.62217172e+00],\n",
              "       [-8.39910860e-01, -8.10497031e-01],\n",
              "       [ 2.11257523e+00,  3.49038232e-01],\n",
              "       [ 8.74435899e-01,  1.21868968e+00],\n",
              "       [-7.79789672e-02,  2.62073087e-01],\n",
              "       [ 1.44588482e+00,  3.20049850e-01],\n",
              "       [-7.79789672e-02,  1.91441084e+00]])"
            ]
          },
          "metadata": {},
          "execution_count": 12
        }
      ]
    },
    {
      "cell_type": "code",
      "source": [
        "X_test=scaler.transform(X_test)\n",
        "X_test"
      ],
      "metadata": {
        "colab": {
          "base_uri": "https://localhost:8080/"
        },
        "id": "m2kkqCxSqX6P",
        "outputId": "433da38a-1856-46d4-9fef-8042d2780dbd"
      },
      "execution_count": null,
      "outputs": [
        {
          "output_type": "execute_result",
          "data": {
            "text/plain": [
              "array([[ 6.83952926e-01, -1.41925304e+00],\n",
              "       [-5.54186400e-01,  8.41840719e-01],\n",
              "       [-1.73220454e-01,  1.17131179e-01],\n",
              "       [ 2.07745493e-01,  1.17765300e-03],\n",
              "       [-3.63703427e-01, -8.10497031e-01],\n",
              "       [ 1.72625195e-02,  2.62073087e-01],\n",
              "       [ 1.16016036e+00, -7.81508649e-01],\n",
              "       [ 1.72625195e-02,  1.21868968e+00],\n",
              "       [-9.35152347e-01,  4.64991758e-01],\n",
              "       [-4.58944914e-01, -1.24532275e+00],\n",
              "       [-1.88756721e+00,  4.36003377e-01],\n",
              "       [ 3.98228466e-01, -5.20613215e-01],\n",
              "       [-8.39910860e-01,  3.49038232e-01],\n",
              "       [-1.31611829e+00, -1.27431114e+00],\n",
              "       [-1.50660127e+00, -2.30729400e-01],\n",
              "       [-6.49427887e-01, -1.53520657e+00],\n",
              "       [-2.68461941e-01, -4.62636452e-01],\n",
              "       [ 3.02986979e-01,  3.01660346e-02],\n",
              "       [ 3.98228466e-01, -2.01741018e-01],\n",
              "       [-3.63703427e-01, -8.10497031e-01],\n",
              "       [ 1.12504006e-01,  2.33084706e-01],\n",
              "       [-9.35152347e-01, -3.46682926e-01],\n",
              "       [-7.44669374e-01, -1.56419495e+00],\n",
              "       [-7.79789672e-02, -2.78107286e-02],\n",
              "       [-5.54186400e-01,  1.85643407e+00],\n",
              "       [ 9.69677386e-01, -1.21633437e+00],\n",
              "       [ 1.12504006e-01, -8.39485413e-01],\n",
              "       [ 1.92209225e+00,  8.70829100e-01],\n",
              "       [-7.79789672e-02,  2.17530627e+00],\n",
              "       [-1.22087681e+00,  4.64991758e-01],\n",
              "       [-1.88756721e+00, -5.49601597e-01],\n",
              "       [-1.41135978e+00, -1.43764255e-01],\n",
              "       [-1.12563532e+00,  3.01660346e-02],\n",
              "       [ 3.02986979e-01,  3.01660346e-02],\n",
              "       [ 9.69677386e-01, -1.04240408e+00],\n",
              "       [ 1.54112631e+00, -2.78107286e-02],\n",
              "       [-1.31611829e+00, -1.12936923e+00],\n",
              "       [ 7.79194413e-01,  3.20049850e-01],\n",
              "       [ 8.74435899e-01,  1.04475939e+00],\n",
              "       [ 1.73160928e+00, -3.17694544e-01],\n",
              "       [-2.68461941e-01, -3.17694544e-01],\n",
              "       [-2.68461941e-01,  5.80945284e-01],\n",
              "       [-7.79789672e-02,  3.01660346e-02],\n",
              "       [ 1.16016036e+00, -1.01341570e+00],\n",
              "       [-1.41135978e+00, -1.24532275e+00],\n",
              "       [-2.68461941e-01, -3.46682926e-01],\n",
              "       [ 3.02986979e-01, -2.30729400e-01],\n",
              "       [ 9.69677386e-01,  2.03036436e+00],\n",
              "       [-1.73220454e-01,  2.11732951e+00],\n",
              "       [-2.68461941e-01, -1.39026466e+00],\n",
              "       [-1.79232573e+00, -2.78107286e-02],\n",
              "       [-4.58944914e-01,  1.21868968e+00],\n",
              "       [-6.49427887e-01, -3.75671307e-01],\n",
              "       [-1.12563532e+00, -1.62217172e+00],\n",
              "       [-7.79789672e-02,  2.04096324e-01],\n",
              "       [ 1.44588482e+00,  3.01660346e-02],\n",
              "       [ 2.01733374e+00, -8.39485413e-01],\n",
              "       [-8.39910860e-01, -1.24532275e+00],\n",
              "       [ 1.44588482e+00,  2.08834113e+00],\n",
              "       [-5.54186400e-01, -1.53520657e+00],\n",
              "       [ 1.72625195e-02, -2.88706163e-01],\n",
              "       [-6.49427887e-01,  1.17765300e-03],\n",
              "       [ 1.82685077e+00, -3.17694544e-01],\n",
              "       [-2.68461941e-01, -1.47722981e+00],\n",
              "       [ 3.02986979e-01, -7.52520268e-01],\n",
              "       [ 1.54112631e+00, -1.30329952e+00],\n",
              "       [-1.69708424e+00, -1.01341570e+00],\n",
              "       [-8.39910860e-01, -6.94543505e-01],\n",
              "       [-6.49427887e-01, -1.43764255e-01],\n",
              "       [-1.41135978e+00, -1.47722981e+00],\n",
              "       [-7.79789672e-02,  2.33084706e-01],\n",
              "       [ 8.74435899e-01, -5.78589978e-01],\n",
              "       [-7.79789672e-02, -4.04659689e-01],\n",
              "       [ 9.69677386e-01,  7.25887192e-01],\n",
              "       [-8.39910860e-01,  2.62073087e-01],\n",
              "       [-1.73220454e-01,  8.12852337e-01],\n",
              "       [ 1.54112631e+00,  9.57794245e-01],\n",
              "       [-2.68461941e-01, -2.88706163e-01],\n",
              "       [ 1.82685077e+00, -1.10038085e+00],\n",
              "       [-1.12563532e+00,  3.78026613e-01]])"
            ]
          },
          "metadata": {},
          "execution_count": 13
        }
      ]
    },
    {
      "cell_type": "markdown",
      "source": [
        "# **Choosing K**"
      ],
      "metadata": {
        "id": "GHUMaAlR6C4_"
      }
    },
    {
      "cell_type": "code",
      "source": [
        "np.sqrt(X_train.shape[0])"
      ],
      "metadata": {
        "colab": {
          "base_uri": "https://localhost:8080/"
        },
        "id": "EM1J0O1frZjD",
        "outputId": "0a1cf136-4b6f-4ead-a8c1-d4d10f6e125e"
      },
      "execution_count": null,
      "outputs": [
        {
          "output_type": "execute_result",
          "data": {
            "text/plain": [
              "17.88854381999832"
            ]
          },
          "metadata": {},
          "execution_count": 14
        }
      ]
    },
    {
      "cell_type": "code",
      "source": [
        "k=17"
      ],
      "metadata": {
        "id": "f6B9_4CprZkt"
      },
      "execution_count": null,
      "outputs": []
    },
    {
      "cell_type": "markdown",
      "source": [
        "# Training "
      ],
      "metadata": {
        "id": "Mm3smJrK6JsZ"
      }
    },
    {
      "cell_type": "code",
      "source": [
        "from sklearn.neighbors import KNeighborsClassifier\n",
        "knn=KNeighborsClassifier(n_neighbors=k)\n",
        "knn.fit(X_train,y_train)"
      ],
      "metadata": {
        "colab": {
          "base_uri": "https://localhost:8080/",
          "height": 75
        },
        "id": "2iLTNDYXrZn_",
        "outputId": "9c6724fc-9087-4596-8a3d-d6c2d37a79d8"
      },
      "execution_count": null,
      "outputs": [
        {
          "output_type": "execute_result",
          "data": {
            "text/plain": [
              "KNeighborsClassifier(n_neighbors=17)"
            ],
            "text/html": [
              "<style>#sk-container-id-1 {color: black;background-color: white;}#sk-container-id-1 pre{padding: 0;}#sk-container-id-1 div.sk-toggleable {background-color: white;}#sk-container-id-1 label.sk-toggleable__label {cursor: pointer;display: block;width: 100%;margin-bottom: 0;padding: 0.3em;box-sizing: border-box;text-align: center;}#sk-container-id-1 label.sk-toggleable__label-arrow:before {content: \"▸\";float: left;margin-right: 0.25em;color: #696969;}#sk-container-id-1 label.sk-toggleable__label-arrow:hover:before {color: black;}#sk-container-id-1 div.sk-estimator:hover label.sk-toggleable__label-arrow:before {color: black;}#sk-container-id-1 div.sk-toggleable__content {max-height: 0;max-width: 0;overflow: hidden;text-align: left;background-color: #f0f8ff;}#sk-container-id-1 div.sk-toggleable__content pre {margin: 0.2em;color: black;border-radius: 0.25em;background-color: #f0f8ff;}#sk-container-id-1 input.sk-toggleable__control:checked~div.sk-toggleable__content {max-height: 200px;max-width: 100%;overflow: auto;}#sk-container-id-1 input.sk-toggleable__control:checked~label.sk-toggleable__label-arrow:before {content: \"▾\";}#sk-container-id-1 div.sk-estimator input.sk-toggleable__control:checked~label.sk-toggleable__label {background-color: #d4ebff;}#sk-container-id-1 div.sk-label input.sk-toggleable__control:checked~label.sk-toggleable__label {background-color: #d4ebff;}#sk-container-id-1 input.sk-hidden--visually {border: 0;clip: rect(1px 1px 1px 1px);clip: rect(1px, 1px, 1px, 1px);height: 1px;margin: -1px;overflow: hidden;padding: 0;position: absolute;width: 1px;}#sk-container-id-1 div.sk-estimator {font-family: monospace;background-color: #f0f8ff;border: 1px dotted black;border-radius: 0.25em;box-sizing: border-box;margin-bottom: 0.5em;}#sk-container-id-1 div.sk-estimator:hover {background-color: #d4ebff;}#sk-container-id-1 div.sk-parallel-item::after {content: \"\";width: 100%;border-bottom: 1px solid gray;flex-grow: 1;}#sk-container-id-1 div.sk-label:hover label.sk-toggleable__label {background-color: #d4ebff;}#sk-container-id-1 div.sk-serial::before {content: \"\";position: absolute;border-left: 1px solid gray;box-sizing: border-box;top: 0;bottom: 0;left: 50%;z-index: 0;}#sk-container-id-1 div.sk-serial {display: flex;flex-direction: column;align-items: center;background-color: white;padding-right: 0.2em;padding-left: 0.2em;position: relative;}#sk-container-id-1 div.sk-item {position: relative;z-index: 1;}#sk-container-id-1 div.sk-parallel {display: flex;align-items: stretch;justify-content: center;background-color: white;position: relative;}#sk-container-id-1 div.sk-item::before, #sk-container-id-1 div.sk-parallel-item::before {content: \"\";position: absolute;border-left: 1px solid gray;box-sizing: border-box;top: 0;bottom: 0;left: 50%;z-index: -1;}#sk-container-id-1 div.sk-parallel-item {display: flex;flex-direction: column;z-index: 1;position: relative;background-color: white;}#sk-container-id-1 div.sk-parallel-item:first-child::after {align-self: flex-end;width: 50%;}#sk-container-id-1 div.sk-parallel-item:last-child::after {align-self: flex-start;width: 50%;}#sk-container-id-1 div.sk-parallel-item:only-child::after {width: 0;}#sk-container-id-1 div.sk-dashed-wrapped {border: 1px dashed gray;margin: 0 0.4em 0.5em 0.4em;box-sizing: border-box;padding-bottom: 0.4em;background-color: white;}#sk-container-id-1 div.sk-label label {font-family: monospace;font-weight: bold;display: inline-block;line-height: 1.2em;}#sk-container-id-1 div.sk-label-container {text-align: center;}#sk-container-id-1 div.sk-container {/* jupyter's `normalize.less` sets `[hidden] { display: none; }` but bootstrap.min.css set `[hidden] { display: none !important; }` so we also need the `!important` here to be able to override the default hidden behavior on the sphinx rendered scikit-learn.org. See: https://github.com/scikit-learn/scikit-learn/issues/21755 */display: inline-block !important;position: relative;}#sk-container-id-1 div.sk-text-repr-fallback {display: none;}</style><div id=\"sk-container-id-1\" class=\"sk-top-container\"><div class=\"sk-text-repr-fallback\"><pre>KNeighborsClassifier(n_neighbors=17)</pre><b>In a Jupyter environment, please rerun this cell to show the HTML representation or trust the notebook. <br />On GitHub, the HTML representation is unable to render, please try loading this page with nbviewer.org.</b></div><div class=\"sk-container\" hidden><div class=\"sk-item\"><div class=\"sk-estimator sk-toggleable\"><input class=\"sk-toggleable__control sk-hidden--visually\" id=\"sk-estimator-id-1\" type=\"checkbox\" checked><label for=\"sk-estimator-id-1\" class=\"sk-toggleable__label sk-toggleable__label-arrow\">KNeighborsClassifier</label><div class=\"sk-toggleable__content\"><pre>KNeighborsClassifier(n_neighbors=17)</pre></div></div></div></div></div>"
            ]
          },
          "metadata": {},
          "execution_count": 17
        }
      ]
    },
    {
      "cell_type": "code",
      "source": [
        "knn.fit(X_train,y_train)"
      ],
      "metadata": {
        "colab": {
          "base_uri": "https://localhost:8080/",
          "height": 75
        },
        "id": "CJTTIZhQrZp5",
        "outputId": "14bebd38-886a-4ef7-d761-dc955cab177c"
      },
      "execution_count": null,
      "outputs": [
        {
          "output_type": "execute_result",
          "data": {
            "text/plain": [
              "KNeighborsClassifier(n_neighbors=17)"
            ],
            "text/html": [
              "<style>#sk-container-id-2 {color: black;background-color: white;}#sk-container-id-2 pre{padding: 0;}#sk-container-id-2 div.sk-toggleable {background-color: white;}#sk-container-id-2 label.sk-toggleable__label {cursor: pointer;display: block;width: 100%;margin-bottom: 0;padding: 0.3em;box-sizing: border-box;text-align: center;}#sk-container-id-2 label.sk-toggleable__label-arrow:before {content: \"▸\";float: left;margin-right: 0.25em;color: #696969;}#sk-container-id-2 label.sk-toggleable__label-arrow:hover:before {color: black;}#sk-container-id-2 div.sk-estimator:hover label.sk-toggleable__label-arrow:before {color: black;}#sk-container-id-2 div.sk-toggleable__content {max-height: 0;max-width: 0;overflow: hidden;text-align: left;background-color: #f0f8ff;}#sk-container-id-2 div.sk-toggleable__content pre {margin: 0.2em;color: black;border-radius: 0.25em;background-color: #f0f8ff;}#sk-container-id-2 input.sk-toggleable__control:checked~div.sk-toggleable__content {max-height: 200px;max-width: 100%;overflow: auto;}#sk-container-id-2 input.sk-toggleable__control:checked~label.sk-toggleable__label-arrow:before {content: \"▾\";}#sk-container-id-2 div.sk-estimator input.sk-toggleable__control:checked~label.sk-toggleable__label {background-color: #d4ebff;}#sk-container-id-2 div.sk-label input.sk-toggleable__control:checked~label.sk-toggleable__label {background-color: #d4ebff;}#sk-container-id-2 input.sk-hidden--visually {border: 0;clip: rect(1px 1px 1px 1px);clip: rect(1px, 1px, 1px, 1px);height: 1px;margin: -1px;overflow: hidden;padding: 0;position: absolute;width: 1px;}#sk-container-id-2 div.sk-estimator {font-family: monospace;background-color: #f0f8ff;border: 1px dotted black;border-radius: 0.25em;box-sizing: border-box;margin-bottom: 0.5em;}#sk-container-id-2 div.sk-estimator:hover {background-color: #d4ebff;}#sk-container-id-2 div.sk-parallel-item::after {content: \"\";width: 100%;border-bottom: 1px solid gray;flex-grow: 1;}#sk-container-id-2 div.sk-label:hover label.sk-toggleable__label {background-color: #d4ebff;}#sk-container-id-2 div.sk-serial::before {content: \"\";position: absolute;border-left: 1px solid gray;box-sizing: border-box;top: 0;bottom: 0;left: 50%;z-index: 0;}#sk-container-id-2 div.sk-serial {display: flex;flex-direction: column;align-items: center;background-color: white;padding-right: 0.2em;padding-left: 0.2em;position: relative;}#sk-container-id-2 div.sk-item {position: relative;z-index: 1;}#sk-container-id-2 div.sk-parallel {display: flex;align-items: stretch;justify-content: center;background-color: white;position: relative;}#sk-container-id-2 div.sk-item::before, #sk-container-id-2 div.sk-parallel-item::before {content: \"\";position: absolute;border-left: 1px solid gray;box-sizing: border-box;top: 0;bottom: 0;left: 50%;z-index: -1;}#sk-container-id-2 div.sk-parallel-item {display: flex;flex-direction: column;z-index: 1;position: relative;background-color: white;}#sk-container-id-2 div.sk-parallel-item:first-child::after {align-self: flex-end;width: 50%;}#sk-container-id-2 div.sk-parallel-item:last-child::after {align-self: flex-start;width: 50%;}#sk-container-id-2 div.sk-parallel-item:only-child::after {width: 0;}#sk-container-id-2 div.sk-dashed-wrapped {border: 1px dashed gray;margin: 0 0.4em 0.5em 0.4em;box-sizing: border-box;padding-bottom: 0.4em;background-color: white;}#sk-container-id-2 div.sk-label label {font-family: monospace;font-weight: bold;display: inline-block;line-height: 1.2em;}#sk-container-id-2 div.sk-label-container {text-align: center;}#sk-container-id-2 div.sk-container {/* jupyter's `normalize.less` sets `[hidden] { display: none; }` but bootstrap.min.css set `[hidden] { display: none !important; }` so we also need the `!important` here to be able to override the default hidden behavior on the sphinx rendered scikit-learn.org. See: https://github.com/scikit-learn/scikit-learn/issues/21755 */display: inline-block !important;position: relative;}#sk-container-id-2 div.sk-text-repr-fallback {display: none;}</style><div id=\"sk-container-id-2\" class=\"sk-top-container\"><div class=\"sk-text-repr-fallback\"><pre>KNeighborsClassifier(n_neighbors=17)</pre><b>In a Jupyter environment, please rerun this cell to show the HTML representation or trust the notebook. <br />On GitHub, the HTML representation is unable to render, please try loading this page with nbviewer.org.</b></div><div class=\"sk-container\" hidden><div class=\"sk-item\"><div class=\"sk-estimator sk-toggleable\"><input class=\"sk-toggleable__control sk-hidden--visually\" id=\"sk-estimator-id-2\" type=\"checkbox\" checked><label for=\"sk-estimator-id-2\" class=\"sk-toggleable__label sk-toggleable__label-arrow\">KNeighborsClassifier</label><div class=\"sk-toggleable__content\"><pre>KNeighborsClassifier(n_neighbors=17)</pre></div></div></div></div></div>"
            ]
          },
          "metadata": {},
          "execution_count": 18
        }
      ]
    },
    {
      "cell_type": "code",
      "source": [
        "y_pred=knn.predict(X_test)"
      ],
      "metadata": {
        "id": "XLXqHG4vrZsj"
      },
      "execution_count": null,
      "outputs": []
    },
    {
      "cell_type": "code",
      "source": [
        "y_pred.shape"
      ],
      "metadata": {
        "colab": {
          "base_uri": "https://localhost:8080/"
        },
        "id": "xPCnFbMqrZw9",
        "outputId": "abf7037a-a9ce-4aca-f869-69ab4d6ae600"
      },
      "execution_count": null,
      "outputs": [
        {
          "output_type": "execute_result",
          "data": {
            "text/plain": [
              "(80,)"
            ]
          },
          "metadata": {},
          "execution_count": 20
        }
      ]
    },
    {
      "cell_type": "code",
      "source": [
        "from sklearn.metrics import accuracy_score\n",
        "accuracy_score(y_test,y_pred)"
      ],
      "metadata": {
        "colab": {
          "base_uri": "https://localhost:8080/"
        },
        "id": "okdX904srZz8",
        "outputId": "5a7ab166-81a7-41ee-e2a4-0764387d4748"
      },
      "execution_count": null,
      "outputs": [
        {
          "output_type": "execute_result",
          "data": {
            "text/plain": [
              "0.85"
            ]
          },
          "metadata": {},
          "execution_count": 21
        }
      ]
    },
    {
      "cell_type": "code",
      "source": [
        "from sklearn.metrics import confusion_matrix\n",
        "confusion_matrix(y_test,y_pred)"
      ],
      "metadata": {
        "colab": {
          "base_uri": "https://localhost:8080/"
        },
        "id": "OA8GXZsqqX9H",
        "outputId": "f6b865fb-e005-4236-9a45-76026341f32f"
      },
      "execution_count": null,
      "outputs": [
        {
          "output_type": "execute_result",
          "data": {
            "text/plain": [
              "array([[48,  5],\n",
              "       [ 7, 20]])"
            ]
          },
          "metadata": {},
          "execution_count": 22
        }
      ]
    },
    {
      "cell_type": "markdown",
      "source": [
        "# **For Different K Values**"
      ],
      "metadata": {
        "id": "15KOkGl96T8z"
      }
    },
    {
      "cell_type": "code",
      "source": [
        "accuracy=[]\n",
        "\n",
        "for i in range(1,10):\n",
        "    knn=KNeighborsClassifier(n_neighbors=i)\n",
        "    knn.fit(X_train,y_train)\n",
        "    accuracy.append(accuracy_score(y_test,knn.predict(X_test)))\n",
        "    "
      ],
      "metadata": {
        "id": "btwm5cxRyezb"
      },
      "execution_count": null,
      "outputs": []
    },
    {
      "cell_type": "code",
      "source": [
        "accuracy"
      ],
      "metadata": {
        "colab": {
          "base_uri": "https://localhost:8080/"
        },
        "id": "bIVTBdkhye1Y",
        "outputId": "03d6f595-7d3e-4123-e271-7097027e00b8"
      },
      "execution_count": null,
      "outputs": [
        {
          "output_type": "execute_result",
          "data": {
            "text/plain": [
              "[0.8625, 0.85, 0.9, 0.85, 0.85, 0.85, 0.8625, 0.875, 0.8625]"
            ]
          },
          "metadata": {},
          "execution_count": 35
        }
      ]
    },
    {
      "cell_type": "code",
      "source": [
        "plt.plot(range(1,10),accuracy)"
      ],
      "metadata": {
        "colab": {
          "base_uri": "https://localhost:8080/",
          "height": 447
        },
        "id": "ThHbP34Hye4P",
        "outputId": "c9c412d9-0f48-4417-d8d7-5ba1a5d350d6"
      },
      "execution_count": null,
      "outputs": [
        {
          "output_type": "execute_result",
          "data": {
            "text/plain": [
              "[<matplotlib.lines.Line2D at 0x7fd41d9237c0>]"
            ]
          },
          "metadata": {},
          "execution_count": 36
        },
        {
          "output_type": "display_data",
          "data": {
            "text/plain": [
              "<Figure size 640x480 with 1 Axes>"
            ],
            "image/png": "[encoded data removed]"
          },
          "metadata": {}
        }
      ]
    },
    {
      "cell_type": "code",
      "source": [
        "knn=KNeighborsClassifier(n_neighbors=8)\n",
        "knn.fit(X_train,y_train)"
      ],
      "metadata": {
        "colab": {
          "base_uri": "https://localhost:8080/",
          "height": 75
        },
        "id": "Cleh9m8wshZJ",
        "outputId": "df829dbb-dc7f-45b0-9129-7a28c0509226"
      },
      "execution_count": null,
      "outputs": [
        {
          "output_type": "execute_result",
          "data": {
            "text/plain": [
              "KNeighborsClassifier(n_neighbors=8)"
            ],
            "text/html": [
              "<style>#sk-container-id-4 {color: black;background-color: white;}#sk-container-id-4 pre{padding: 0;}#sk-container-id-4 div.sk-toggleable {background-color: white;}#sk-container-id-4 label.sk-toggleable__label {cursor: pointer;display: block;width: 100%;margin-bottom: 0;padding: 0.3em;box-sizing: border-box;text-align: center;}#sk-container-id-4 label.sk-toggleable__label-arrow:before {content: \"▸\";float: left;margin-right: 0.25em;color: #696969;}#sk-container-id-4 label.sk-toggleable__label-arrow:hover:before {color: black;}#sk-container-id-4 div.sk-estimator:hover label.sk-toggleable__label-arrow:before {color: black;}#sk-container-id-4 div.sk-toggleable__content {max-height: 0;max-width: 0;overflow: hidden;text-align: left;background-color: #f0f8ff;}#sk-container-id-4 div.sk-toggleable__content pre {margin: 0.2em;color: black;border-radius: 0.25em;background-color: #f0f8ff;}#sk-container-id-4 input.sk-toggleable__control:checked~div.sk-toggleable__content {max-height: 200px;max-width: 100%;overflow: auto;}#sk-container-id-4 input.sk-toggleable__control:checked~label.sk-toggleable__label-arrow:before {content: \"▾\";}#sk-container-id-4 div.sk-estimator input.sk-toggleable__control:checked~label.sk-toggleable__label {background-color: #d4ebff;}#sk-container-id-4 div.sk-label input.sk-toggleable__control:checked~label.sk-toggleable__label {background-color: #d4ebff;}#sk-container-id-4 input.sk-hidden--visually {border: 0;clip: rect(1px 1px 1px 1px);clip: rect(1px, 1px, 1px, 1px);height: 1px;margin: -1px;overflow: hidden;padding: 0;position: absolute;width: 1px;}#sk-container-id-4 div.sk-estimator {font-family: monospace;background-color: #f0f8ff;border: 1px dotted black;border-radius: 0.25em;box-sizing: border-box;margin-bottom: 0.5em;}#sk-container-id-4 div.sk-estimator:hover {background-color: #d4ebff;}#sk-container-id-4 div.sk-parallel-item::after {content: \"\";width: 100%;border-bottom: 1px solid gray;flex-grow: 1;}#sk-container-id-4 div.sk-label:hover label.sk-toggleable__label {background-color: #d4ebff;}#sk-container-id-4 div.sk-serial::before {content: \"\";position: absolute;border-left: 1px solid gray;box-sizing: border-box;top: 0;bottom: 0;left: 50%;z-index: 0;}#sk-container-id-4 div.sk-serial {display: flex;flex-direction: column;align-items: center;background-color: white;padding-right: 0.2em;padding-left: 0.2em;position: relative;}#sk-container-id-4 div.sk-item {position: relative;z-index: 1;}#sk-container-id-4 div.sk-parallel {display: flex;align-items: stretch;justify-content: center;background-color: white;position: relative;}#sk-container-id-4 div.sk-item::before, #sk-container-id-4 div.sk-parallel-item::before {content: \"\";position: absolute;border-left: 1px solid gray;box-sizing: border-box;top: 0;bottom: 0;left: 50%;z-index: -1;}#sk-container-id-4 div.sk-parallel-item {display: flex;flex-direction: column;z-index: 1;position: relative;background-color: white;}#sk-container-id-4 div.sk-parallel-item:first-child::after {align-self: flex-end;width: 50%;}#sk-container-id-4 div.sk-parallel-item:last-child::after {align-self: flex-start;width: 50%;}#sk-container-id-4 div.sk-parallel-item:only-child::after {width: 0;}#sk-container-id-4 div.sk-dashed-wrapped {border: 1px dashed gray;margin: 0 0.4em 0.5em 0.4em;box-sizing: border-box;padding-bottom: 0.4em;background-color: white;}#sk-container-id-4 div.sk-label label {font-family: monospace;font-weight: bold;display: inline-block;line-height: 1.2em;}#sk-container-id-4 div.sk-label-container {text-align: center;}#sk-container-id-4 div.sk-container {/* jupyter's `normalize.less` sets `[hidden] { display: none; }` but bootstrap.min.css set `[hidden] { display: none !important; }` so we also need the `!important` here to be able to override the default hidden behavior on the sphinx rendered scikit-learn.org. See: https://github.com/scikit-learn/scikit-learn/issues/21755 */display: inline-block !important;position: relative;}#sk-container-id-4 div.sk-text-repr-fallback {display: none;}</style><div id=\"sk-container-id-4\" class=\"sk-top-container\"><div class=\"sk-text-repr-fallback\"><pre>KNeighborsClassifier(n_neighbors=8)</pre><b>In a Jupyter environment, please rerun this cell to show the HTML representation or trust the notebook. <br />On GitHub, the HTML representation is unable to render, please try loading this page with nbviewer.org.</b></div><div class=\"sk-container\" hidden><div class=\"sk-item\"><div class=\"sk-estimator sk-toggleable\"><input class=\"sk-toggleable__control sk-hidden--visually\" id=\"sk-estimator-id-4\" type=\"checkbox\" checked><label for=\"sk-estimator-id-4\" class=\"sk-toggleable__label sk-toggleable__label-arrow\">KNeighborsClassifier</label><div class=\"sk-toggleable__content\"><pre>KNeighborsClassifier(n_neighbors=8)</pre></div></div></div></div></div>"
            ]
          },
          "metadata": {},
          "execution_count": 37
        }
      ]
    },
    {
      "cell_type": "code",
      "source": [
        "y_pred=knn.predict(X_test)\n",
        "accuracy_score(y_test,y_pred)"
      ],
      "metadata": {
        "colab": {
          "base_uri": "https://localhost:8080/"
        },
        "id": "xCbLqGRLshbB",
        "outputId": "f3f22e03-0543-42b4-e7de-966f447d82b1"
      },
      "execution_count": null,
      "outputs": [
        {
          "output_type": "execute_result",
          "data": {
            "text/plain": [
              "0.875"
            ]
          },
          "metadata": {},
          "execution_count": 38
        }
      ]
    },
    {
      "cell_type": "markdown",
      "source": [
        "# **Predicting Output**"
      ],
      "metadata": {
        "id": "jDqUvFcR6bCx"
      }
    },
    {
      "cell_type": "code",
      "source": [
        "def predict_output():\n",
        "    age=int(input(\"Enter the age\"))\n",
        "    salary=int(input(\"Enter the salary\"))\n",
        "    \n",
        "    X_new=np.array([[age],[salary]]).reshape(1,2)\n",
        "    X_new=scaler.transform(X_new)\n",
        "    \n",
        "    if knn.predict(X_new)[0]==0:\n",
        "        return \"Will not purchase\"\n",
        "    else:\n",
        "        return \"Will purchase\""
      ],
      "metadata": {
        "id": "uWRX8g2fshd7"
      },
      "execution_count": null,
      "outputs": []
    },
    {
      "cell_type": "code",
      "source": [
        "predict_output()"
      ],
      "metadata": {
        "colab": {
          "base_uri": "https://localhost:8080/",
          "height": 70
        },
        "id": "sab7Qjglshf0",
        "outputId": "63d56d8a-7461-4fa7-f8f6-3dcda2c7e2d1"
      },
      "execution_count": null,
      "outputs": [
        {
          "name": "stdout",
          "output_type": "stream",
          "text": [
            "Enter the age17\n",
            "Enter the salary15000\n"
          ]
        },
        {
          "output_type": "execute_result",
          "data": {
            "text/plain": [
              "'Will not purchase'"
            ],
            "application/vnd.google.colaboratory.intrinsic+json": {
              "type": "string"
            }
          },
          "metadata": {},
          "execution_count": 26
        }
      ]
    },
    {
      "cell_type": "markdown",
      "source": [
        "# **Plotting Decision boundary**"
      ],
      "metadata": {
        "id": "DawC7yoN6gVy"
      }
    },
    {
      "cell_type": "code",
      "source": [
        "a=np.arange(start=X_train[:,0].min()-1, stop=X_train[:,0].max()+1, step=0.01)\n",
        "b=np.arange(start=X_train[:,1].min()-1, stop=X_train[:,1].max()+1, step=0.01)\n",
        "\n",
        "\n",
        "XX,YY=np.meshgrid(a,b)"
      ],
      "metadata": {
        "id": "ZhjeDTIpshjA"
      },
      "execution_count": null,
      "outputs": []
    },
    {
      "cell_type": "code",
      "source": [
        "YY.shape"
      ],
      "metadata": {
        "colab": {
          "base_uri": "https://localhost:8080/"
        },
        "id": "byUnE69xshks",
        "outputId": "2aa2afe7-c508-48b8-d75c-69c9f32ed808"
      },
      "execution_count": null,
      "outputs": [
        {
          "output_type": "execute_result",
          "data": {
            "text/plain": [
              "(592, 601)"
            ]
          },
          "metadata": {},
          "execution_count": 28
        }
      ]
    },
    {
      "cell_type": "code",
      "source": [
        "input_array=np.array([XX.ravel(),YY.ravel()]).T\n",
        "\n",
        "labels=knn.predict(input_array)"
      ],
      "metadata": {
        "id": "AWzpE-hgshob"
      },
      "execution_count": null,
      "outputs": []
    },
    {
      "cell_type": "code",
      "source": [
        "labels"
      ],
      "metadata": {
        "colab": {
          "base_uri": "https://localhost:8080/"
        },
        "id": "p_OQjYjBte5e",
        "outputId": "86822b44-2e83-4d0d-91eb-2a1774c45620"
      },
      "execution_count": null,
      "outputs": [
        {
          "output_type": "execute_result",
          "data": {
            "text/plain": [
              "array([0, 0, 0, ..., 1, 1, 1])"
            ]
          },
          "metadata": {},
          "execution_count": 30
        }
      ]
    },
    {
      "cell_type": "code",
      "source": [
        "plt.contourf(XX,YY,labels.reshape(XX.shape), alpha=0.75)\n",
        "plt.scatter(X_train[:,0],X_train[:,1], c=y_train)\n",
        "plt.title('(Training set)')\n",
        "plt.xlabel('Age')\n",
        "plt.ylabel('Estimated Salary')\n"
      ],
      "metadata": {
        "colab": {
          "base_uri": "https://localhost:8080/",
          "height": 489
        },
        "id": "qNCiZwlvte7L",
        "outputId": "66a22551-091a-445b-fd12-c5590b0bb9d9"
      },
      "execution_count": null,
      "outputs": [
        {
          "output_type": "execute_result",
          "data": {
            "text/plain": [
              "Text(0, 0.5, 'Estimated Salary')"
            ]
          },
          "metadata": {},
          "execution_count": 45
        },
        {
          "output_type": "display_data",
          "data": {
            "text/plain": [
              "<Figure size 640x480 with 1 Axes>"
            ],
            "image/png": "[encoded data removed]"
          },
          "metadata": {}
        }
      ]
    },
    {
      "cell_type": "code",
      "source": [
        "m=np.arange(start=X_test[:,0].min()-1, stop=X_test[:,0].max()+1, step=0.01)\n",
        "n=np.arange(start=X_test[:,1].min()-1, stop=X_test[:,1].max()+1, step=0.01)\n",
        "XX,YY=np.meshgrid(a,b)"
      ],
      "metadata": {
        "id": "DRaAw0LXtfBJ"
      },
      "execution_count": null,
      "outputs": []
    },
    {
      "cell_type": "code",
      "source": [
        "input_array=np.array([XX.ravel(),YY.ravel()]).T\n",
        "labels=knn.predict(input_array)"
      ],
      "metadata": {
        "id": "NbMeF4My4wQL"
      },
      "execution_count": null,
      "outputs": []
    },
    {
      "cell_type": "code",
      "source": [
        "plt.contourf(XX,YY,labels.reshape(XX.shape), alpha=0.75)\n",
        "plt.scatter(X_test[:,0],X_test[:,1], c=y_test)\n",
        "plt.title('(Test set)')\n",
        "plt.xlabel('Age')\n",
        "plt.ylabel('Estimated Salary')"
      ],
      "metadata": {
        "colab": {
          "base_uri": "https://localhost:8080/",
          "height": 489
        },
        "id": "0LQh-GQu4wTC",
        "outputId": "af850670-2ce8-4449-fe7e-2cf2f404ba7a"
      },
      "execution_count": null,
      "outputs": [
        {
          "output_type": "execute_result",
          "data": {
            "text/plain": [
              "Text(0, 0.5, 'Estimated Salary')"
            ]
          },
          "metadata": {},
          "execution_count": 46
        },
        {
          "output_type": "display_data",
          "data": {
            "text/plain": [
              "<Figure size 640x480 with 1 Axes>"
            ],
            "image/png": "[encoded data removed]"
          },
          "metadata": {}
        }
      ]
    }
  ]
}