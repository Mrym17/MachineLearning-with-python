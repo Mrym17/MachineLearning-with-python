{
  "nbformat": 4,
  "nbformat_minor": 0,
  "metadata": {
    "colab": {
      "provenance": [],
      "authorship_tag": "ABX9TyOBbuUJaM6y0ekX/+bKvpiT",
      "include_colab_link": true
    },
    "kernelspec": {
      "name": "python3",
      "display_name": "Python 3"
    },
    "language_info": {
      "name": "python"
    }
  },
  "cells": [
    {
      "cell_type": "markdown",
      "metadata": {
        "id": "view-in-github",
        "colab_type": "text"
      },
      "source": [
        "<a href=\"https://colab.research.google.com/github/Mrym17/MachineLearning-with-python/blob/main/Multivariate_Linear_Regression_with_Real_Estate_dataset.ipynb\" target=\"_parent\"><img src=\"https://colab.research.google.com/assets/colab-badge.svg\" alt=\"Open In Colab\"/></a>"
      ]
    },
    {
      "cell_type": "code",
      "execution_count": null,
      "metadata": {
        "id": "1rGZ9-syW7Hh"
      },
      "outputs": [],
      "source": [
        "#libraries\n",
        "import numpy as np\n",
        "import pandas as pd\n",
        "from numpy import math\n",
        "import matplotlib.pyplot as plt\n",
        "from mpl_toolkits.mplot3d import Axes3D\n",
        "import seaborn as sns"
      ]
    },
    {
      "cell_type": "markdown",
      "source": [
        "# **Loading Dataset**"
      ],
      "metadata": {
        "id": "sLc-Se6EvT8h"
      }
    },
    {
      "cell_type": "code",
      "source": [
        "data = pd.read_csv('/content/Real estate.csv')"
      ],
      "metadata": {
        "id": "Oa7_wxOhXDqn"
      },
      "execution_count": null,
      "outputs": []
    },
    {
      "cell_type": "code",
      "source": [
        "data.shape"
      ],
      "metadata": {
        "colab": {
          "base_uri": "https://localhost:8080/"
        },
        "id": "SkZko8bLXDsc",
        "outputId": "52f81791-1b04-40b8-8fb2-3f923f52e879"
      },
      "execution_count": null,
      "outputs": [
        {
          "output_type": "execute_result",
          "data": {
            "text/plain": [
              "(414, 8)"
            ]
          },
          "metadata": {},
          "execution_count": 3
        }
      ]
    },
    {
      "cell_type": "code",
      "source": [
        "data.head()"
      ],
      "metadata": {
        "colab": {
          "base_uri": "https://localhost:8080/",
          "height": 268
        },
        "id": "st_eHkyAhKJa",
        "outputId": "c63673aa-b37d-4b8a-8865-470f03f0ec09"
      },
      "execution_count": null,
      "outputs": [
        {
          "output_type": "execute_result",
          "data": {
            "text/plain": [
              "   No  X1 transaction date  X2 house age  \\\n",
              "0   1             2012.917          32.0   \n",
              "1   2             2012.917          19.5   \n",
              "2   3             2013.583          13.3   \n",
              "3   4             2013.500          13.3   \n",
              "4   5             2012.833           5.0   \n",
              "\n",
              "   X3 distance to the nearest MRT station  X4 number of convenience stores  \\\n",
              "0                                84.87882                               10   \n",
              "1                               306.59470                                9   \n",
              "2                               561.98450                                5   \n",
              "3                               561.98450                                5   \n",
              "4                               390.56840                                5   \n",
              "\n",
              "   X5 latitude  X6 longitude  Y house price of unit area  \n",
              "0     24.98298     121.54024                        37.9  \n",
              "1     24.98034     121.53951                        42.2  \n",
              "2     24.98746     121.54391                        47.3  \n",
              "3     24.98746     121.54391                        54.8  \n",
              "4     24.97937     121.54245                        43.1  "
            ],
            "text/html": [
              "\n",
              "  <div id=\"df-61c151c5-5246-42e6-8a75-d203e66bcdf0\">\n",
              "    <div class=\"colab-df-container\">\n",
              "      <div>\n",
              "<style scoped>\n",
              "    .dataframe tbody tr th:only-of-type {\n",
              "        vertical-align: middle;\n",
              "    }\n",
              "\n",
              "    .dataframe tbody tr th {\n",
              "        vertical-align: top;\n",
              "    }\n",
              "\n",
              "    .dataframe thead th {\n",
              "        text-align: right;\n",
              "    }\n",
              "</style>\n",
              "<table border=\"1\" class=\"dataframe\">\n",
              "  <thead>\n",
              "    <tr style=\"text-align: right;\">\n",
              "      <th></th>\n",
              "      <th>No</th>\n",
              "      <th>X1 transaction date</th>\n",
              "      <th>X2 house age</th>\n",
              "      <th>X3 distance to the nearest MRT station</th>\n",
              "      <th>X4 number of convenience stores</th>\n",
              "      <th>X5 latitude</th>\n",
              "      <th>X6 longitude</th>\n",
              "      <th>Y house price of unit area</th>\n",
              "    </tr>\n",
              "  </thead>\n",
              "  <tbody>\n",
              "    <tr>\n",
              "      <th>0</th>\n",
              "      <td>1</td>\n",
              "      <td>2012.917</td>\n",
              "      <td>32.0</td>\n",
              "      <td>84.87882</td>\n",
              "      <td>10</td>\n",
              "      <td>24.98298</td>\n",
              "      <td>121.54024</td>\n",
              "      <td>37.9</td>\n",
              "    </tr>\n",
              "    <tr>\n",
              "      <th>1</th>\n",
              "      <td>2</td>\n",
              "      <td>2012.917</td>\n",
              "      <td>19.5</td>\n",
              "      <td>306.59470</td>\n",
              "      <td>9</td>\n",
              "      <td>24.98034</td>\n",
              "      <td>121.53951</td>\n",
              "      <td>42.2</td>\n",
              "    </tr>\n",
              "    <tr>\n",
              "      <th>2</th>\n",
              "      <td>3</td>\n",
              "      <td>2013.583</td>\n",
              "      <td>13.3</td>\n",
              "      <td>561.98450</td>\n",
              "      <td>5</td>\n",
              "      <td>24.98746</td>\n",
              "      <td>121.54391</td>\n",
              "      <td>47.3</td>\n",
              "    </tr>\n",
              "    <tr>\n",
              "      <th>3</th>\n",
              "      <td>4</td>\n",
              "      <td>2013.500</td>\n",
              "      <td>13.3</td>\n",
              "      <td>561.98450</td>\n",
              "      <td>5</td>\n",
              "      <td>24.98746</td>\n",
              "      <td>121.54391</td>\n",
              "      <td>54.8</td>\n",
              "    </tr>\n",
              "    <tr>\n",
              "      <th>4</th>\n",
              "      <td>5</td>\n",
              "      <td>2012.833</td>\n",
              "      <td>5.0</td>\n",
              "      <td>390.56840</td>\n",
              "      <td>5</td>\n",
              "      <td>24.97937</td>\n",
              "      <td>121.54245</td>\n",
              "      <td>43.1</td>\n",
              "    </tr>\n",
              "  </tbody>\n",
              "</table>\n",
              "</div>\n",
              "      <button class=\"colab-df-convert\" onclick=\"convertToInteractive('df-61c151c5-5246-42e6-8a75-d203e66bcdf0')\"\n",
              "              title=\"Convert this dataframe to an interactive table.\"\n",
              "              style=\"display:none;\">\n",
              "        \n",
              "  <svg xmlns=\"http://www.w3.org/2000/svg\" height=\"24px\"viewBox=\"0 0 24 24\"\n",
              "       width=\"24px\">\n",
              "    <path d=\"M0 0h24v24H0V0z\" fill=\"none\"/>\n",
              "    <path d=\"M18.56 5.44l.94 2.06.94-2.06 2.06-.94-2.06-.94-.94-2.06-.94 2.06-2.06.94zm-11 1L8.5 8.5l.94-2.06 2.06-.94-2.06-.94L8.5 2.5l-.94 2.06-2.06.94zm10 10l.94 2.06.94-2.06 2.06-.94-2.06-.94-.94-2.06-.94 2.06-2.06.94z\"/><path d=\"M17.41 7.96l-1.37-1.37c-.4-.4-.92-.59-1.43-.59-.52 0-1.04.2-1.43.59L10.3 9.45l-7.72 7.72c-.78.78-.78 2.05 0 2.83L4 21.41c.39.39.9.59 1.41.59.51 0 1.02-.2 1.41-.59l7.78-7.78 2.81-2.81c.8-.78.8-2.07 0-2.86zM5.41 20L4 18.59l7.72-7.72 1.47 1.35L5.41 20z\"/>\n",
              "  </svg>\n",
              "      </button>\n",
              "      \n",
              "  <style>\n",
              "    .colab-df-container {\n",
              "      display:flex;\n",
              "      flex-wrap:wrap;\n",
              "      gap: 12px;\n",
              "    }\n",
              "\n",
              "    .colab-df-convert {\n",
              "      background-color: #E8F0FE;\n",
              "      border: none;\n",
              "      border-radius: 50%;\n",
              "      cursor: pointer;\n",
              "      display: none;\n",
              "      fill: #1967D2;\n",
              "      height: 32px;\n",
              "      padding: 0 0 0 0;\n",
              "      width: 32px;\n",
              "    }\n",
              "\n",
              "    .colab-df-convert:hover {\n",
              "      background-color: #E2EBFA;\n",
              "      box-shadow: 0px 1px 2px rgba(60, 64, 67, 0.3), 0px 1px 3px 1px rgba(60, 64, 67, 0.15);\n",
              "      fill: #174EA6;\n",
              "    }\n",
              "\n",
              "    [theme=dark] .colab-df-convert {\n",
              "      background-color: #3B4455;\n",
              "      fill: #D2E3FC;\n",
              "    }\n",
              "\n",
              "    [theme=dark] .colab-df-convert:hover {\n",
              "      background-color: #434B5C;\n",
              "      box-shadow: 0px 1px 3px 1px rgba(0, 0, 0, 0.15);\n",
              "      filter: drop-shadow(0px 1px 2px rgba(0, 0, 0, 0.3));\n",
              "      fill: #FFFFFF;\n",
              "    }\n",
              "  </style>\n",
              "\n",
              "      <script>\n",
              "        const buttonEl =\n",
              "          document.querySelector('#df-61c151c5-5246-42e6-8a75-d203e66bcdf0 button.colab-df-convert');\n",
              "        buttonEl.style.display =\n",
              "          google.colab.kernel.accessAllowed ? 'block' : 'none';\n",
              "\n",
              "        async function convertToInteractive(key) {\n",
              "          const element = document.querySelector('#df-61c151c5-5246-42e6-8a75-d203e66bcdf0');\n",
              "          const dataTable =\n",
              "            await google.colab.kernel.invokeFunction('convertToInteractive',\n",
              "                                                     [key], {});\n",
              "          if (!dataTable) return;\n",
              "\n",
              "          const docLinkHtml = 'Like what you see? Visit the ' +\n",
              "            '<a target=\"_blank\" href=https://colab.research.google.com/notebooks/data_table.ipynb>data table notebook</a>'\n",
              "            + ' to learn more about interactive tables.';\n",
              "          element.innerHTML = '';\n",
              "          dataTable['output_type'] = 'display_data';\n",
              "          await google.colab.output.renderOutput(dataTable, element);\n",
              "          const docLink = document.createElement('div');\n",
              "          docLink.innerHTML = docLinkHtml;\n",
              "          element.appendChild(docLink);\n",
              "        }\n",
              "      </script>\n",
              "    </div>\n",
              "  </div>\n",
              "  "
            ]
          },
          "metadata": {},
          "execution_count": 4
        }
      ]
    },
    {
      "cell_type": "markdown",
      "source": [
        "# **Data Visualization**"
      ],
      "metadata": {
        "id": "qwd7VhdYhiHJ"
      }
    },
    {
      "cell_type": "code",
      "source": [
        "# Pair-wise Scatter Plots\n",
        "\n",
        "fig, ax = plt.subplots(6, figsize=(6, 20))\n",
        "ax[0].scatter(x = data['X1 transaction date'], y = data['Y house price of unit area'])\n",
        "ax[0].set_xlabel(\"Y house price of unit area\")\n",
        "ax[0].set_ylabel(\"X1 transaction date\")\n",
        "\n",
        "ax[1].scatter(x = data['X2 house age'], y = data['Y house price of unit area'])\n",
        "ax[1].set_xlabel(\"Y house price of unit area\")\n",
        "ax[1].set_ylabel(\"X2 house age\")\n",
        "ax[2].scatter(x = data['X3 distance to the nearest MRT station'], y = data['Y house price of unit area'])\n",
        "ax[2].set_xlabel(\"Y house price of unit area\")\n",
        "ax[2].set_ylabel(\"X3 distance to the nearest MRT station\")\n",
        "ax[3].scatter(x = data['X4 number of convenience stores'], y = data['Y house price of unit area'])\n",
        "ax[3].set_xlabel(\"Y house price of unit area\")\n",
        "ax[3].set_ylabel(\"X4 number of convenience stores\")\n",
        "ax[4].scatter(x = data['X5 latitude'], y = data['Y house price of unit area'])\n",
        "ax[4].set_xlabel(\"Y house price of unit area\")\n",
        "ax[4].set_ylabel(\"X5 latitude\")\n",
        "ax[5].scatter(x = data['X6 longitude'], y = data['Y house price of unit area'])\n",
        "ax[5].set_xlabel(\"Y house price of unit area\")\n",
        "ax[5].set_ylabel(\"X6 longitude\")\n",
        "\n",
        "\n",
        "plt.show()"
      ],
      "metadata": {
        "colab": {
          "base_uri": "https://localhost:8080/",
          "height": 1000
        },
        "id": "LOpVVTqqXDva",
        "outputId": "e47c7a5a-e8f0-4195-b59a-272293eb003c"
      },
      "execution_count": null,
      "outputs": [
        {
          "output_type": "display_data",
          "data": {
            "text/plain": [
              "<Figure size 432x1440 with 6 Axes>"
            ],
            "image/png": "[encoded data removed]"
          },
          "metadata": {
            "needs_background": "light"
          }
        }
      ]
    },
    {
      "cell_type": "markdown",
      "source": [
        "# **Data Preprocessing**"
      ],
      "metadata": {
        "id": "yHNEgBcS4LFt"
      }
    },
    {
      "cell_type": "code",
      "source": [
        "#checking for missing values\n",
        "data.isnull().sum()"
      ],
      "metadata": {
        "colab": {
          "base_uri": "https://localhost:8080/"
        },
        "id": "M1oDeQnG091H",
        "outputId": "086d344a-cd78-46c3-989b-46df21d5339a"
      },
      "execution_count": null,
      "outputs": [
        {
          "output_type": "execute_result",
          "data": {
            "text/plain": [
              "No                                        0\n",
              "X1 transaction date                       0\n",
              "X2 house age                              0\n",
              "X3 distance to the nearest MRT station    0\n",
              "X4 number of convenience stores           0\n",
              "X5 latitude                               0\n",
              "X6 longitude                              0\n",
              "Y house price of unit area                0\n",
              "dtype: int64"
            ]
          },
          "metadata": {},
          "execution_count": 5
        }
      ]
    },
    {
      "cell_type": "code",
      "source": [
        "#checking for duplicate rows\n",
        "data.duplicated().sum()"
      ],
      "metadata": {
        "colab": {
          "base_uri": "https://localhost:8080/"
        },
        "id": "W7SVgX1f4SsW",
        "outputId": "3a73139e-e137-4c53-8bce-af5f0f405542"
      },
      "execution_count": null,
      "outputs": [
        {
          "output_type": "execute_result",
          "data": {
            "text/plain": [
              "0"
            ]
          },
          "metadata": {},
          "execution_count": 6
        }
      ]
    },
    {
      "cell_type": "markdown",
      "source": [
        "### **Data Split**"
      ],
      "metadata": {
        "id": "0jM3Jmlw5GYu"
      }
    },
    {
      "cell_type": "code",
      "source": [
        "#Dropping cloumn No as its not a X feature \n",
        "data.drop(['No'],inplace=True, axis=1)"
      ],
      "metadata": {
        "id": "foix203rGm-i"
      },
      "execution_count": null,
      "outputs": []
    },
    {
      "cell_type": "code",
      "source": [
        "#correlation\n",
        "f, ax = plt.subplots(figsize=(10, 6))\n",
        "corr = data.corr()\n",
        "hm = sns.heatmap(round(corr,2), annot=True, ax=ax, cmap=\"coolwarm\",fmt='.2f',\n",
        "                 linewidths=.05)\n",
        "f.subplots_adjust(top=0.93)\n",
        "t= f.suptitle('Correlation Heatmap', fontsize=14)"
      ],
      "metadata": {
        "colab": {
          "base_uri": "https://localhost:8080/",
          "height": 601
        },
        "id": "Z2Z5u0EYpeig",
        "outputId": "a14c14a1-417a-4ae4-f222-b3326d21e8ee"
      },
      "execution_count": null,
      "outputs": [
        {
          "output_type": "display_data",
          "data": {
            "text/plain": [
              "<Figure size 720x432 with 2 Axes>"
            ],
            "image/png": "[encoded data removed]"
          },
          "metadata": {
            "needs_background": "light"
          }
        }
      ]
    },
    {
      "cell_type": "code",
      "source": [
        "#splitting data for training and testing\n",
        "ratio = 0.7\n",
        " \n",
        "total_rows = data.shape[0]\n",
        "train_size = int(total_rows*ratio)\n",
        " \n",
        "# Split data into test and train\n",
        "train = data[0:train_size]\n",
        "test = data[train_size:]"
      ],
      "metadata": {
        "id": "nAmXlQ4Cmmns"
      },
      "execution_count": null,
      "outputs": []
    },
    {
      "cell_type": "code",
      "source": [
        "train"
      ],
      "metadata": {
        "colab": {
          "base_uri": "https://localhost:8080/",
          "height": 485
        },
        "id": "gD9glw8sHj-f",
        "outputId": "25ac5515-c367-4bc1-c5fd-5f8f75f9201e"
      },
      "execution_count": null,
      "outputs": [
        {
          "output_type": "execute_result",
          "data": {
            "text/plain": [
              "     X1 transaction date  X2 house age  \\\n",
              "0               2012.917          32.0   \n",
              "1               2012.917          19.5   \n",
              "2               2013.583          13.3   \n",
              "3               2013.500          13.3   \n",
              "4               2012.833           5.0   \n",
              "..                   ...           ...   \n",
              "284             2012.917          15.0   \n",
              "285             2013.167          30.1   \n",
              "286             2012.917           5.9   \n",
              "287             2013.000          19.2   \n",
              "288             2013.583          16.6   \n",
              "\n",
              "     X3 distance to the nearest MRT station  X4 number of convenience stores  \\\n",
              "0                                  84.87882                               10   \n",
              "1                                 306.59470                                9   \n",
              "2                                 561.98450                                5   \n",
              "3                                 561.98450                                5   \n",
              "4                                 390.56840                                5   \n",
              "..                                      ...                              ...   \n",
              "284                               383.28050                                7   \n",
              "285                               718.29370                                3   \n",
              "286                                90.45606                                9   \n",
              "287                               461.10160                                5   \n",
              "288                               323.69120                                6   \n",
              "\n",
              "     X5 latitude  X6 longitude  Y house price of unit area  \n",
              "0       24.98298     121.54024                        37.9  \n",
              "1       24.98034     121.53951                        42.2  \n",
              "2       24.98746     121.54391                        47.3  \n",
              "3       24.98746     121.54391                        54.8  \n",
              "4       24.97937     121.54245                        43.1  \n",
              "..           ...           ...                         ...  \n",
              "284     24.96735     121.54464                        34.4  \n",
              "285     24.97509     121.53644                        55.3  \n",
              "286     24.97433     121.54310                        56.3  \n",
              "287     24.95425     121.53990                        32.9  \n",
              "288     24.97841     121.54280                        51.0  \n",
              "\n",
              "[289 rows x 7 columns]"
            ],
            "text/html": [
              "\n",
              "  <div id=\"df-e1fe9c31-51c9-4193-85d2-b8a209d8b88a\">\n",
              "    <div class=\"colab-df-container\">\n",
              "      <div>\n",
              "<style scoped>\n",
              "    .dataframe tbody tr th:only-of-type {\n",
              "        vertical-align: middle;\n",
              "    }\n",
              "\n",
              "    .dataframe tbody tr th {\n",
              "        vertical-align: top;\n",
              "    }\n",
              "\n",
              "    .dataframe thead th {\n",
              "        text-align: right;\n",
              "    }\n",
              "</style>\n",
              "<table border=\"1\" class=\"dataframe\">\n",
              "  <thead>\n",
              "    <tr style=\"text-align: right;\">\n",
              "      <th></th>\n",
              "      <th>X1 transaction date</th>\n",
              "      <th>X2 house age</th>\n",
              "      <th>X3 distance to the nearest MRT station</th>\n",
              "      <th>X4 number of convenience stores</th>\n",
              "      <th>X5 latitude</th>\n",
              "      <th>X6 longitude</th>\n",
              "      <th>Y house price of unit area</th>\n",
              "    </tr>\n",
              "  </thead>\n",
              "  <tbody>\n",
              "    <tr>\n",
              "      <th>0</th>\n",
              "      <td>2012.917</td>\n",
              "      <td>32.0</td>\n",
              "      <td>84.87882</td>\n",
              "      <td>10</td>\n",
              "      <td>24.98298</td>\n",
              "      <td>121.54024</td>\n",
              "      <td>37.9</td>\n",
              "    </tr>\n",
              "    <tr>\n",
              "      <th>1</th>\n",
              "      <td>2012.917</td>\n",
              "      <td>19.5</td>\n",
              "      <td>306.59470</td>\n",
              "      <td>9</td>\n",
              "      <td>24.98034</td>\n",
              "      <td>121.53951</td>\n",
              "      <td>42.2</td>\n",
              "    </tr>\n",
              "    <tr>\n",
              "      <th>2</th>\n",
              "      <td>2013.583</td>\n",
              "      <td>13.3</td>\n",
              "      <td>561.98450</td>\n",
              "      <td>5</td>\n",
              "      <td>24.98746</td>\n",
              "      <td>121.54391</td>\n",
              "      <td>47.3</td>\n",
              "    </tr>\n",
              "    <tr>\n",
              "      <th>3</th>\n",
              "      <td>2013.500</td>\n",
              "      <td>13.3</td>\n",
              "      <td>561.98450</td>\n",
              "      <td>5</td>\n",
              "      <td>24.98746</td>\n",
              "      <td>121.54391</td>\n",
              "      <td>54.8</td>\n",
              "    </tr>\n",
              "    <tr>\n",
              "      <th>4</th>\n",
              "      <td>2012.833</td>\n",
              "      <td>5.0</td>\n",
              "      <td>390.56840</td>\n",
              "      <td>5</td>\n",
              "      <td>24.97937</td>\n",
              "      <td>121.54245</td>\n",
              "      <td>43.1</td>\n",
              "    </tr>\n",
              "    <tr>\n",
              "      <th>...</th>\n",
              "      <td>...</td>\n",
              "      <td>...</td>\n",
              "      <td>...</td>\n",
              "      <td>...</td>\n",
              "      <td>...</td>\n",
              "      <td>...</td>\n",
              "      <td>...</td>\n",
              "    </tr>\n",
              "    <tr>\n",
              "      <th>284</th>\n",
              "      <td>2012.917</td>\n",
              "      <td>15.0</td>\n",
              "      <td>383.28050</td>\n",
              "      <td>7</td>\n",
              "      <td>24.96735</td>\n",
              "      <td>121.54464</td>\n",
              "      <td>34.4</td>\n",
              "    </tr>\n",
              "    <tr>\n",
              "      <th>285</th>\n",
              "      <td>2013.167</td>\n",
              "      <td>30.1</td>\n",
              "      <td>718.29370</td>\n",
              "      <td>3</td>\n",
              "      <td>24.97509</td>\n",
              "      <td>121.53644</td>\n",
              "      <td>55.3</td>\n",
              "    </tr>\n",
              "    <tr>\n",
              "      <th>286</th>\n",
              "      <td>2012.917</td>\n",
              "      <td>5.9</td>\n",
              "      <td>90.45606</td>\n",
              "      <td>9</td>\n",
              "      <td>24.97433</td>\n",
              "      <td>121.54310</td>\n",
              "      <td>56.3</td>\n",
              "    </tr>\n",
              "    <tr>\n",
              "      <th>287</th>\n",
              "      <td>2013.000</td>\n",
              "      <td>19.2</td>\n",
              "      <td>461.10160</td>\n",
              "      <td>5</td>\n",
              "      <td>24.95425</td>\n",
              "      <td>121.53990</td>\n",
              "      <td>32.9</td>\n",
              "    </tr>\n",
              "    <tr>\n",
              "      <th>288</th>\n",
              "      <td>2013.583</td>\n",
              "      <td>16.6</td>\n",
              "      <td>323.69120</td>\n",
              "      <td>6</td>\n",
              "      <td>24.97841</td>\n",
              "      <td>121.54280</td>\n",
              "      <td>51.0</td>\n",
              "    </tr>\n",
              "  </tbody>\n",
              "</table>\n",
              "<p>289 rows × 7 columns</p>\n",
              "</div>\n",
              "      <button class=\"colab-df-convert\" onclick=\"convertToInteractive('df-e1fe9c31-51c9-4193-85d2-b8a209d8b88a')\"\n",
              "              title=\"Convert this dataframe to an interactive table.\"\n",
              "              style=\"display:none;\">\n",
              "        \n",
              "  <svg xmlns=\"http://www.w3.org/2000/svg\" height=\"24px\"viewBox=\"0 0 24 24\"\n",
              "       width=\"24px\">\n",
              "    <path d=\"M0 0h24v24H0V0z\" fill=\"none\"/>\n",
              "    <path d=\"M18.56 5.44l.94 2.06.94-2.06 2.06-.94-2.06-.94-.94-2.06-.94 2.06-2.06.94zm-11 1L8.5 8.5l.94-2.06 2.06-.94-2.06-.94L8.5 2.5l-.94 2.06-2.06.94zm10 10l.94 2.06.94-2.06 2.06-.94-2.06-.94-.94-2.06-.94 2.06-2.06.94z\"/><path d=\"M17.41 7.96l-1.37-1.37c-.4-.4-.92-.59-1.43-.59-.52 0-1.04.2-1.43.59L10.3 9.45l-7.72 7.72c-.78.78-.78 2.05 0 2.83L4 21.41c.39.39.9.59 1.41.59.51 0 1.02-.2 1.41-.59l7.78-7.78 2.81-2.81c.8-.78.8-2.07 0-2.86zM5.41 20L4 18.59l7.72-7.72 1.47 1.35L5.41 20z\"/>\n",
              "  </svg>\n",
              "      </button>\n",
              "      \n",
              "  <style>\n",
              "    .colab-df-container {\n",
              "      display:flex;\n",
              "      flex-wrap:wrap;\n",
              "      gap: 12px;\n",
              "    }\n",
              "\n",
              "    .colab-df-convert {\n",
              "      background-color: #E8F0FE;\n",
              "      border: none;\n",
              "      border-radius: 50%;\n",
              "      cursor: pointer;\n",
              "      display: none;\n",
              "      fill: #1967D2;\n",
              "      height: 32px;\n",
              "      padding: 0 0 0 0;\n",
              "      width: 32px;\n",
              "    }\n",
              "\n",
              "    .colab-df-convert:hover {\n",
              "      background-color: #E2EBFA;\n",
              "      box-shadow: 0px 1px 2px rgba(60, 64, 67, 0.3), 0px 1px 3px 1px rgba(60, 64, 67, 0.15);\n",
              "      fill: #174EA6;\n",
              "    }\n",
              "\n",
              "    [theme=dark] .colab-df-convert {\n",
              "      background-color: #3B4455;\n",
              "      fill: #D2E3FC;\n",
              "    }\n",
              "\n",
              "    [theme=dark] .colab-df-convert:hover {\n",
              "      background-color: #434B5C;\n",
              "      box-shadow: 0px 1px 3px 1px rgba(0, 0, 0, 0.15);\n",
              "      filter: drop-shadow(0px 1px 2px rgba(0, 0, 0, 0.3));\n",
              "      fill: #FFFFFF;\n",
              "    }\n",
              "  </style>\n",
              "\n",
              "      <script>\n",
              "        const buttonEl =\n",
              "          document.querySelector('#df-e1fe9c31-51c9-4193-85d2-b8a209d8b88a button.colab-df-convert');\n",
              "        buttonEl.style.display =\n",
              "          google.colab.kernel.accessAllowed ? 'block' : 'none';\n",
              "\n",
              "        async function convertToInteractive(key) {\n",
              "          const element = document.querySelector('#df-e1fe9c31-51c9-4193-85d2-b8a209d8b88a');\n",
              "          const dataTable =\n",
              "            await google.colab.kernel.invokeFunction('convertToInteractive',\n",
              "                                                     [key], {});\n",
              "          if (!dataTable) return;\n",
              "\n",
              "          const docLinkHtml = 'Like what you see? Visit the ' +\n",
              "            '<a target=\"_blank\" href=https://colab.research.google.com/notebooks/data_table.ipynb>data table notebook</a>'\n",
              "            + ' to learn more about interactive tables.';\n",
              "          element.innerHTML = '';\n",
              "          dataTable['output_type'] = 'display_data';\n",
              "          await google.colab.output.renderOutput(dataTable, element);\n",
              "          const docLink = document.createElement('div');\n",
              "          docLink.innerHTML = docLinkHtml;\n",
              "          element.appendChild(docLink);\n",
              "        }\n",
              "      </script>\n",
              "    </div>\n",
              "  </div>\n",
              "  "
            ]
          },
          "metadata": {},
          "execution_count": 12
        }
      ]
    },
    {
      "cell_type": "code",
      "source": [
        "train.shape, test.shape"
      ],
      "metadata": {
        "colab": {
          "base_uri": "https://localhost:8080/"
        },
        "id": "qJhwI7YnXD52",
        "outputId": "226f32e5-5920-47ca-b864-0768ad353f12"
      },
      "execution_count": null,
      "outputs": [
        {
          "output_type": "execute_result",
          "data": {
            "text/plain": [
              "((289, 7), (125, 7))"
            ]
          },
          "metadata": {},
          "execution_count": 313
        }
      ]
    },
    {
      "cell_type": "code",
      "source": [
        "#Separating Data for X and Y for Training data\n",
        "train = train.values\n",
        "Y = train[:, -1].reshape(train.shape[0], 1)\n",
        "X = train[:, :-1]"
      ],
      "metadata": {
        "id": "2WKFUQcGXD7U"
      },
      "execution_count": null,
      "outputs": []
    },
    {
      "cell_type": "code",
      "source": [
        "#Separating Data for X and Y of Testing data\n",
        "test = test.values\n",
        "Y_test = test[:, -1].reshape(test.shape[0], 1)\n",
        "X_test = test[:, :-1]"
      ],
      "metadata": {
        "id": "pCaT0YwKf1e6"
      },
      "execution_count": null,
      "outputs": []
    },
    {
      "cell_type": "code",
      "source": [
        "print(\"Shape of X_train :\", X.shape)\n",
        "print(\"Shape of Y_train :\", Y.shape)\n",
        "print(\"Shape of X_test :\", X_test.shape)\n",
        "print(\"Shape of Y_test :\", Y_test.shape)"
      ],
      "metadata": {
        "colab": {
          "base_uri": "https://localhost:8080/"
        },
        "id": "jcb4NY10f1hx",
        "outputId": "25133397-881d-4c5f-c42c-f5e94ad93cf3"
      },
      "execution_count": null,
      "outputs": [
        {
          "output_type": "stream",
          "name": "stdout",
          "text": [
            "Shape of X_train : (289, 6)\n",
            "Shape of Y_train : (289, 1)\n",
            "Shape of X_test : (125, 6)\n",
            "Shape of Y_test : (125, 1)\n"
          ]
        }
      ]
    },
    {
      "cell_type": "markdown",
      "source": [
        "# **Feature Scaling - Standardization**"
      ],
      "metadata": {
        "id": "0FRQSE1Oxoxi"
      }
    },
    {
      "cell_type": "code",
      "source": [
        "from sklearn.preprocessing import StandardScaler\n",
        "scaler = StandardScaler() \n",
        "data_scaled = scaler.fit_transform(data)"
      ],
      "metadata": {
        "id": "X-lwCSVSwukd"
      },
      "execution_count": null,
      "outputs": []
    },
    {
      "cell_type": "code",
      "source": [
        "print(data_scaled.mean(axis=0))\n",
        "print(data_scaled.std(axis=0))"
      ],
      "metadata": {
        "colab": {
          "base_uri": "https://localhost:8080/"
        },
        "id": "0jtYILDtwzKX",
        "outputId": "3bec8980-d943-4585-a50a-3dcae96a05e9"
      },
      "execution_count": null,
      "outputs": [
        {
          "output_type": "stream",
          "name": "stdout",
          "text": [
            "[ 3.70550611e-13 -9.22504156e-17 -1.26576152e-16 -7.50875476e-18\n",
            "  1.34316605e-13 -1.61453674e-12  8.58143401e-17]\n",
            "[1. 1. 1. 1. 1. 1. 1.]\n"
          ]
        }
      ]
    },
    {
      "cell_type": "code",
      "source": [
        "print('Min values (X1 \tX2 \tX3 \tX4 \tX5 \tX6 \t): ', data_scaled.min(axis=0))\n",
        "print('Max values (X1  \tX2 \tX3 \tX4 \tX5 \tX6 \t): ', data_scaled.max(axis=0))"
      ],
      "metadata": {
        "colab": {
          "base_uri": "https://localhost:8080/"
        },
        "id": "BoxJ3sTcxAgB",
        "outputId": "ffe049d5-3eb0-45b1-da3c-a65f375cf8a8"
      },
      "execution_count": null,
      "outputs": [
        {
          "output_type": "stream",
          "name": "stdout",
          "text": [
            "Min values (X1 \tX2 \tX3 \tX4 \tX5 \tX6 \t):  [-1.71138378 -1.55663948 -0.84127874 -1.39163828 -2.9818054  -3.90322301\n",
            " -2.2354741 ]\n",
            "Max values (X1  \tX2 \tX3 \tX4 \tX5 \tX6 \t):  [1.54115111 2.29265208 4.28700797 2.00740743 3.67561071 2.14689108\n",
            " 5.85132778]\n"
          ]
        }
      ]
    },
    {
      "cell_type": "markdown",
      "source": [
        "# **Adding Bias**"
      ],
      "metadata": {
        "id": "TPsayO02kfke"
      }
    },
    {
      "cell_type": "code",
      "source": [
        "#adding bias cloumn to train and test data\n",
        "X = np.vstack((np.ones((X.shape[0], )), X.T)).T\n",
        "X_test = np.vstack((np.ones((X_test.shape[0], )), X_test.T)).T"
      ],
      "metadata": {
        "id": "wVPkLpqc5nfT"
      },
      "execution_count": null,
      "outputs": []
    },
    {
      "cell_type": "markdown",
      "source": [
        "# **Functions**"
      ],
      "metadata": {
        "id": "KKj8R6PQj0d0"
      }
    },
    {
      "cell_type": "code",
      "source": [
        "def model(X, Y, learning_rate, iteration):\n",
        "  m = Y.size\n",
        "  theta = np.zeros((X.shape[1], 1))\n",
        "  cost_list = []\n",
        "  for i in range(iteration):\n",
        "    y_pred = np.dot(X, theta)\n",
        "    cost = (1/(2*m))*np.sum(np.square(y_pred - Y))\n",
        "\n",
        "    d_theta = (1/m)*np.dot(X.T, y_pred - Y)\n",
        "    theta = theta - learning_rate*d_theta\n",
        "    cost_list.append(cost)\n",
        "# to print the cost for 10 times \n",
        "    if(i%(iteration/10) == 0):\n",
        "       print(\"Cost is :\", cost)\n",
        "  return theta, cost_list"
      ],
      "metadata": {
        "id": "cQmQy3JHXEDi"
      },
      "execution_count": null,
      "outputs": []
    },
    {
      "cell_type": "markdown",
      "source": [
        "# **Training**"
      ],
      "metadata": {
        "id": "k9stpNaIj7Tl"
      }
    },
    {
      "cell_type": "code",
      "source": [
        "iteration = 100\n",
        "learning_rate = 0.001\n",
        "theta, cost_list = model(X, Y, learning_rate = learning_rate, iteration =\n",
        "iteration)"
      ],
      "metadata": {
        "colab": {
          "base_uri": "https://localhost:8080/"
        },
        "id": "wO3hDvmAgWSg",
        "outputId": "2c7b16e7-4f87-413c-9e43-3496c2518013"
      },
      "execution_count": null,
      "outputs": [
        {
          "output_type": "stream",
          "name": "stdout",
          "text": [
            "Cost is : 824.8466262975778\n",
            "Cost is : 8.464479534956601e+77\n",
            "Cost is : 1.3085078145474105e+153\n",
            "Cost is : 2.0227973777485467e+228\n",
            "Cost is : 3.1270040468513785e+303\n",
            "Cost is : inf\n",
            "Cost is : inf\n",
            "Cost is : inf\n",
            "Cost is : inf\n",
            "Cost is : nan\n"
          ]
        },
        {
          "output_type": "stream",
          "name": "stderr",
          "text": [
            "<ipython-input-20-fff1cebe0362>:7: RuntimeWarning: overflow encountered in square\n",
            "  cost = (1/(2*m))*np.sum(np.square(y_pred - Y))\n"
          ]
        }
      ]
    },
    {
      "cell_type": "code",
      "source": [
        "rng = np.arange(0, iteration)\n",
        "plt.plot(rng, cost_list)\n",
        "plt.show()"
      ],
      "metadata": {
        "colab": {
          "base_uri": "https://localhost:8080/",
          "height": 276
        },
        "id": "VoL46eD8gWVd",
        "outputId": "bf34c472-bb0e-4bb6-ce99-37a5b401e979"
      },
      "execution_count": null,
      "outputs": [
        {
          "output_type": "display_data",
          "data": {
            "text/plain": [
              "<Figure size 432x288 with 1 Axes>"
            ],
            "image/png": "[encoded data removed]"
          },
          "metadata": {
            "needs_background": "light"
          }
        }
      ]
    },
    {
      "cell_type": "markdown",
      "source": [
        "error = (1/m) * ∑|y_pred−Y|"
      ],
      "metadata": {
        "id": "jQkitBulwklH"
      }
    },
    {
      "cell_type": "code",
      "source": [
        "y_pred = np.dot(X_test, theta)\n",
        "error = (1/X_test.shape[0])*np.sum(np.abs(y_pred - Y_test))"
      ],
      "metadata": {
        "id": "c4fvjFhTgWY4"
      },
      "execution_count": null,
      "outputs": []
    },
    {
      "cell_type": "code",
      "source": [
        "print(\"Test error is :\", error*100, \"%\")\n",
        "print(\"Test Accuracy is :\", (1- error)*100, \"%\")"
      ],
      "metadata": {
        "colab": {
          "base_uri": "https://localhost:8080/"
        },
        "id": "ezWwORaegWb7",
        "outputId": "67b306e9-25a9-4e49-9334-161df7199509"
      },
      "execution_count": null,
      "outputs": [
        {
          "output_type": "stream",
          "name": "stdout",
          "text": [
            "Test error is : 1.8838348233049466e+116 %\n",
            "Test Accuracy is : -1.8838348233049466e+116 %\n"
          ]
        }
      ]
    },
    {
      "cell_type": "code",
      "source": [
        "plt.scatter(Y_test,y_pred);\n",
        "plt.xlabel('Actual');\n",
        "plt.ylabel('Predicted');"
      ],
      "metadata": {
        "id": "L7wBy1xXgWe2",
        "colab": {
          "base_uri": "https://localhost:8080/",
          "height": 279
        },
        "outputId": "7304dc8a-db8e-4789-a3ad-3521aa27b990"
      },
      "execution_count": null,
      "outputs": [
        {
          "output_type": "display_data",
          "data": {
            "text/plain": [
              "<Figure size 432x288 with 1 Axes>"
            ],
            "image/png": "[encoded data removed]"
          },
          "metadata": {
            "needs_background": "light"
          }
        }
      ]
    },
    {
      "cell_type": "code",
      "source": [
        "sns.regplot(x=Y_test,y=y_pred,ci=None,color ='red');"
      ],
      "metadata": {
        "colab": {
          "base_uri": "https://localhost:8080/",
          "height": 266
        },
        "id": "anPedqTDpIjs",
        "outputId": "a2f9a9e6-8dd2-46b4-fc36-28d24fba7cec"
      },
      "execution_count": null,
      "outputs": [
        {
          "output_type": "display_data",
          "data": {
            "text/plain": [
              "<Figure size 432x288 with 1 Axes>"
            ],
            "image/png": "[encoded data removed]"
          },
          "metadata": {
            "needs_background": "light"
          }
        }
      ]
    }
  ]
}